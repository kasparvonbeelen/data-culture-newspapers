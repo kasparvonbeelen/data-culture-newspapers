{
  "nbformat": 4,
  "nbformat_minor": 0,
  "metadata": {
    "colab": {
      "provenance": [],
      "toc_visible": true,
      "authorship_tag": "ABX9TyPLdxAfL7bAQnmeZnGXDUYF",
      "include_colab_link": true
    },
    "kernelspec": {
      "name": "python3",
      "display_name": "Python 3"
    },
    "language_info": {
      "name": "python"
    }
  },
  "cells": [
    {
      "cell_type": "markdown",
      "metadata": {
        "id": "view-in-github",
        "colab_type": "text"
      },
      "source": [
        "<a href=\"https://colab.research.google.com/github/kasparvonbeelen/data-culture-newspapers/blob/directories/Data_Culture_Autumn_Workshop_Explore_Mitchell.ipynb\" target=\"_parent\"><img src=\"https://colab.research.google.com/assets/colab-badge.svg\" alt=\"Open In Colab\"/></a>"
      ]
    },
    {
      "cell_type": "markdown",
      "source": [
        "# Hands-on Session\n",
        "## 🌻 Fun with Press Directories 🦄"
      ],
      "metadata": {
        "id": "DM5je7bXzm33"
      }
    },
    {
      "cell_type": "markdown",
      "source": [
        "### First of all...\n",
        "\n",
        "...what am I looking at here?\n"
      ],
      "metadata": {
        "id": "LstFFd0k1wJJ"
      }
    },
    {
      "cell_type": "markdown",
      "source": [
        "*Welcome to* **Markdown**\n",
        "\n",
        "You write text..."
      ],
      "metadata": {
        "id": "5i_X_KBD17l7"
      }
    },
    {
      "cell_type": "code",
      "source": [
        "# and code\n",
        "print('Hello, World')"
      ],
      "metadata": {
        "colab": {
          "base_uri": "https://localhost:8080/"
        },
        "id": "BzfUWplg2PPI",
        "outputId": "7e41d546-c539-450e-89d3-0aee6d6eaa8c"
      },
      "execution_count": null,
      "outputs": [
        {
          "output_type": "stream",
          "name": "stdout",
          "text": [
            "Hello, World\n"
          ]
        }
      ]
    },
    {
      "cell_type": "markdown",
      "source": [
        "❗ You will need to run all the cells in order ❗"
      ],
      "metadata": {
        "id": "deaiNStHArQC"
      }
    },
    {
      "cell_type": "markdown",
      "source": [
        "Now you know enough technical stuff to follow along."
      ],
      "metadata": {
        "id": "gRea-zKF4T5G"
      }
    },
    {
      "cell_type": "markdown",
      "source": [
        "## Finding the Directories Online\n",
        "\n"
      ],
      "metadata": {
        "id": "Fit5zWvK85z5"
      }
    },
    {
      "cell_type": "markdown",
      "source": [
        "You can consult the directories [online](https://bl.iro.bl.uk/concern/datasets/adcef12a-bb3d-40d9-871d-5784022a77e8)\n",
        "\n",
        "Let's have a look at the documentation first and open the attached PDF.\n",
        "\n",
        "We will have a closer look at how the explore these in code (Python). However, if you are more comfortable with Excel (😵‍💫) feel free to explore the data there."
      ],
      "metadata": {
        "id": "IbcB_Cte8wXa"
      }
    },
    {
      "cell_type": "markdown",
      "source": [
        "### Why Python\n",
        "\n",
        "- This session is not an introduction to Python of programming\n",
        "\n",
        "The goals is more to show what you can do with the Press Directories, using a bit of code.\n",
        "\n",
        "For those who know Python, just relax and follow along.\n",
        "\n",
        "For those new to coding, try to understand what is happening, focussing on the outcomes (not the code). All code is explained with comments, but don't try to understand the syntax.\n",
        "\n",
        "If you are intrigued, I can recommend [this book](https://jakevdp.github.io/PythonDataScienceHandbook/) if you want more an working with dataframes/tabular data in Python!"
      ],
      "metadata": {
        "id": "J9OhIOxPiwcS"
      }
    },
    {
      "cell_type": "markdown",
      "source": [
        "## Exploring the Directories with Pandas\n",
        "\n",
        "![pandas](https://i.giphy.com/media/v1.Y2lkPTc5MGI3NjExanp1NHdzbnA4cWUxdGNoazYwN2c0Y2E5am96YW5rNTNkd2Q4YXJtdiZlcD12MV9pbnRlcm5hbF9naWZfYnlfaWQmY3Q9Zw/aCa8jFalHHJvi/giphy.gif)"
      ],
      "metadata": {
        "id": "nfcZ83Tz4Lqy"
      }
    },
    {
      "cell_type": "markdown",
      "source": [
        "### Importing data"
      ],
      "metadata": {
        "id": "HeLp4qw0Gd0o"
      }
    },
    {
      "cell_type": "code",
      "source": [
        "# import the pandas library\n",
        "import pandas as pd"
      ],
      "metadata": {
        "id": "PWkoBThF6Ik6"
      },
      "execution_count": null,
      "outputs": []
    },
    {
      "cell_type": "code",
      "source": [
        "# open the CSV file online\n",
        "# can also download the file and use it locally\n",
        "df = pd.read_csv('https://bl.iro.bl.uk/downloads/da65047c-4d62-4ab7-946f-8e61e5f6f331?locale=en', index_col=0)"
      ],
      "metadata": {
        "id": "peD6cFRq8WI8"
      },
      "execution_count": null,
      "outputs": []
    },
    {
      "cell_type": "code",
      "source": [
        "# replace the NaN (not a number) values with empty spaces\n",
        "# otherwise code will break later on\n",
        "df.fillna('', inplace=True)"
      ],
      "metadata": {
        "id": "vL2efNw3Qz2a"
      },
      "execution_count": null,
      "outputs": []
    },
    {
      "cell_type": "code",
      "execution_count": null,
      "metadata": {
        "colab": {
          "base_uri": "https://localhost:8080/"
        },
        "id": "zanm8w4KzPpT",
        "outputId": "393f17ba-6610-4c9d-e240-911857c88ca7"
      },
      "outputs": [
        {
          "output_type": "execute_result",
          "data": {
            "text/plain": [
              "(92266, 16)"
            ]
          },
          "metadata": {},
          "execution_count": 5
        }
      ],
      "source": [
        "# the number rows and columns\n",
        "df.shape"
      ]
    },
    {
      "cell_type": "code",
      "source": [
        "# example of first two rows\n",
        "df.head(2)"
      ],
      "metadata": {
        "colab": {
          "base_uri": "https://localhost:8080/",
          "height": 306
        },
        "id": "K9T-7W-GACCz",
        "outputId": "acc5a21d-8cfa-4252-951d-0d4e4a560fb1"
      },
      "execution_count": null,
      "outputs": [
        {
          "output_type": "execute_result",
          "data": {
            "text/plain": [
              "            ID    CHAIN_ID  YEAR                   TITLE PRICE POLITICS  \\\n",
              "0  MPD_1846_57  CID_000000  1846  JUSTICE OF THE PEACE .    6d            \n",
              "1  MPD_1847_65  CID_000000  1847  JUSTICE OF THE PEACE .    6d            \n",
              "\n",
              "    ESTABLISHED_DATE PUBLISED_DATE     PERSONS ORGANIZATIONS PLACE_PUB  \\\n",
              "0  January 28 , 1837      Saturday  Henry Shaw                  london   \n",
              "1  January 28 , 1837      Saturday  Henry Shaw                  london   \n",
              "\n",
              "  PLACE_PUB_WIKI       PLACE_PUB_COORD             PLACES  \\\n",
              "0            Q84  (51.507222, -0.1275)  137 , Fetter Lane   \n",
              "1            Q84  (51.507222, -0.1275)  137 , Fetter Lane   \n",
              "\n",
              "                                         PLACES_TRES  \\\n",
              "0  [{'mention': 'Fetter Lane', 'pos': 35, 'sent_i...   \n",
              "1  [{'mention': 'Fetter Lane', 'pos': 35, 'sent_i...   \n",
              "\n",
              "                                                TEXT  \n",
              "0  JUSTICE OF THE PEACE . Saturday , Price 6d . E...  \n",
              "1  JUSTICE OF THE PEACE . Saturday , Price 6d . E...  "
            ],
            "text/html": [
              "\n",
              "  <div id=\"df-c81b9b72-2c32-497a-be77-58a6d878b72d\" class=\"colab-df-container\">\n",
              "    <div>\n",
              "<style scoped>\n",
              "    .dataframe tbody tr th:only-of-type {\n",
              "        vertical-align: middle;\n",
              "    }\n",
              "\n",
              "    .dataframe tbody tr th {\n",
              "        vertical-align: top;\n",
              "    }\n",
              "\n",
              "    .dataframe thead th {\n",
              "        text-align: right;\n",
              "    }\n",
              "</style>\n",
              "<table border=\"1\" class=\"dataframe\">\n",
              "  <thead>\n",
              "    <tr style=\"text-align: right;\">\n",
              "      <th></th>\n",
              "      <th>ID</th>\n",
              "      <th>CHAIN_ID</th>\n",
              "      <th>YEAR</th>\n",
              "      <th>TITLE</th>\n",
              "      <th>PRICE</th>\n",
              "      <th>POLITICS</th>\n",
              "      <th>ESTABLISHED_DATE</th>\n",
              "      <th>PUBLISED_DATE</th>\n",
              "      <th>PERSONS</th>\n",
              "      <th>ORGANIZATIONS</th>\n",
              "      <th>PLACE_PUB</th>\n",
              "      <th>PLACE_PUB_WIKI</th>\n",
              "      <th>PLACE_PUB_COORD</th>\n",
              "      <th>PLACES</th>\n",
              "      <th>PLACES_TRES</th>\n",
              "      <th>TEXT</th>\n",
              "    </tr>\n",
              "  </thead>\n",
              "  <tbody>\n",
              "    <tr>\n",
              "      <th>0</th>\n",
              "      <td>MPD_1846_57</td>\n",
              "      <td>CID_000000</td>\n",
              "      <td>1846</td>\n",
              "      <td>JUSTICE OF THE PEACE .</td>\n",
              "      <td>6d</td>\n",
              "      <td></td>\n",
              "      <td>January 28 , 1837</td>\n",
              "      <td>Saturday</td>\n",
              "      <td>Henry Shaw</td>\n",
              "      <td></td>\n",
              "      <td>london</td>\n",
              "      <td>Q84</td>\n",
              "      <td>(51.507222, -0.1275)</td>\n",
              "      <td>137 , Fetter Lane</td>\n",
              "      <td>[{'mention': 'Fetter Lane', 'pos': 35, 'sent_i...</td>\n",
              "      <td>JUSTICE OF THE PEACE . Saturday , Price 6d . E...</td>\n",
              "    </tr>\n",
              "    <tr>\n",
              "      <th>1</th>\n",
              "      <td>MPD_1847_65</td>\n",
              "      <td>CID_000000</td>\n",
              "      <td>1847</td>\n",
              "      <td>JUSTICE OF THE PEACE .</td>\n",
              "      <td>6d</td>\n",
              "      <td></td>\n",
              "      <td>January 28 , 1837</td>\n",
              "      <td>Saturday</td>\n",
              "      <td>Henry Shaw</td>\n",
              "      <td></td>\n",
              "      <td>london</td>\n",
              "      <td>Q84</td>\n",
              "      <td>(51.507222, -0.1275)</td>\n",
              "      <td>137 , Fetter Lane</td>\n",
              "      <td>[{'mention': 'Fetter Lane', 'pos': 35, 'sent_i...</td>\n",
              "      <td>JUSTICE OF THE PEACE . Saturday , Price 6d . E...</td>\n",
              "    </tr>\n",
              "  </tbody>\n",
              "</table>\n",
              "</div>\n",
              "    <div class=\"colab-df-buttons\">\n",
              "\n",
              "  <div class=\"colab-df-container\">\n",
              "    <button class=\"colab-df-convert\" onclick=\"convertToInteractive('df-c81b9b72-2c32-497a-be77-58a6d878b72d')\"\n",
              "            title=\"Convert this dataframe to an interactive table.\"\n",
              "            style=\"display:none;\">\n",
              "\n",
              "  <svg xmlns=\"http://www.w3.org/2000/svg\" height=\"24px\" viewBox=\"0 -960 960 960\">\n",
              "    <path d=\"M120-120v-720h720v720H120Zm60-500h600v-160H180v160Zm220 220h160v-160H400v160Zm0 220h160v-160H400v160ZM180-400h160v-160H180v160Zm440 0h160v-160H620v160ZM180-180h160v-160H180v160Zm440 0h160v-160H620v160Z\"/>\n",
              "  </svg>\n",
              "    </button>\n",
              "\n",
              "  <style>\n",
              "    .colab-df-container {\n",
              "      display:flex;\n",
              "      gap: 12px;\n",
              "    }\n",
              "\n",
              "    .colab-df-convert {\n",
              "      background-color: #E8F0FE;\n",
              "      border: none;\n",
              "      border-radius: 50%;\n",
              "      cursor: pointer;\n",
              "      display: none;\n",
              "      fill: #1967D2;\n",
              "      height: 32px;\n",
              "      padding: 0 0 0 0;\n",
              "      width: 32px;\n",
              "    }\n",
              "\n",
              "    .colab-df-convert:hover {\n",
              "      background-color: #E2EBFA;\n",
              "      box-shadow: 0px 1px 2px rgba(60, 64, 67, 0.3), 0px 1px 3px 1px rgba(60, 64, 67, 0.15);\n",
              "      fill: #174EA6;\n",
              "    }\n",
              "\n",
              "    .colab-df-buttons div {\n",
              "      margin-bottom: 4px;\n",
              "    }\n",
              "\n",
              "    [theme=dark] .colab-df-convert {\n",
              "      background-color: #3B4455;\n",
              "      fill: #D2E3FC;\n",
              "    }\n",
              "\n",
              "    [theme=dark] .colab-df-convert:hover {\n",
              "      background-color: #434B5C;\n",
              "      box-shadow: 0px 1px 3px 1px rgba(0, 0, 0, 0.15);\n",
              "      filter: drop-shadow(0px 1px 2px rgba(0, 0, 0, 0.3));\n",
              "      fill: #FFFFFF;\n",
              "    }\n",
              "  </style>\n",
              "\n",
              "    <script>\n",
              "      const buttonEl =\n",
              "        document.querySelector('#df-c81b9b72-2c32-497a-be77-58a6d878b72d button.colab-df-convert');\n",
              "      buttonEl.style.display =\n",
              "        google.colab.kernel.accessAllowed ? 'block' : 'none';\n",
              "\n",
              "      async function convertToInteractive(key) {\n",
              "        const element = document.querySelector('#df-c81b9b72-2c32-497a-be77-58a6d878b72d');\n",
              "        const dataTable =\n",
              "          await google.colab.kernel.invokeFunction('convertToInteractive',\n",
              "                                                    [key], {});\n",
              "        if (!dataTable) return;\n",
              "\n",
              "        const docLinkHtml = 'Like what you see? Visit the ' +\n",
              "          '<a target=\"_blank\" href=https://colab.research.google.com/notebooks/data_table.ipynb>data table notebook</a>'\n",
              "          + ' to learn more about interactive tables.';\n",
              "        element.innerHTML = '';\n",
              "        dataTable['output_type'] = 'display_data';\n",
              "        await google.colab.output.renderOutput(dataTable, element);\n",
              "        const docLink = document.createElement('div');\n",
              "        docLink.innerHTML = docLinkHtml;\n",
              "        element.appendChild(docLink);\n",
              "      }\n",
              "    </script>\n",
              "  </div>\n",
              "\n",
              "\n",
              "<div id=\"df-f824be9e-8997-4414-91f2-dddceb77ed8e\">\n",
              "  <button class=\"colab-df-quickchart\" onclick=\"quickchart('df-f824be9e-8997-4414-91f2-dddceb77ed8e')\"\n",
              "            title=\"Suggest charts\"\n",
              "            style=\"display:none;\">\n",
              "\n",
              "<svg xmlns=\"http://www.w3.org/2000/svg\" height=\"24px\"viewBox=\"0 0 24 24\"\n",
              "     width=\"24px\">\n",
              "    <g>\n",
              "        <path d=\"M19 3H5c-1.1 0-2 .9-2 2v14c0 1.1.9 2 2 2h14c1.1 0 2-.9 2-2V5c0-1.1-.9-2-2-2zM9 17H7v-7h2v7zm4 0h-2V7h2v10zm4 0h-2v-4h2v4z\"/>\n",
              "    </g>\n",
              "</svg>\n",
              "  </button>\n",
              "\n",
              "<style>\n",
              "  .colab-df-quickchart {\n",
              "      --bg-color: #E8F0FE;\n",
              "      --fill-color: #1967D2;\n",
              "      --hover-bg-color: #E2EBFA;\n",
              "      --hover-fill-color: #174EA6;\n",
              "      --disabled-fill-color: #AAA;\n",
              "      --disabled-bg-color: #DDD;\n",
              "  }\n",
              "\n",
              "  [theme=dark] .colab-df-quickchart {\n",
              "      --bg-color: #3B4455;\n",
              "      --fill-color: #D2E3FC;\n",
              "      --hover-bg-color: #434B5C;\n",
              "      --hover-fill-color: #FFFFFF;\n",
              "      --disabled-bg-color: #3B4455;\n",
              "      --disabled-fill-color: #666;\n",
              "  }\n",
              "\n",
              "  .colab-df-quickchart {\n",
              "    background-color: var(--bg-color);\n",
              "    border: none;\n",
              "    border-radius: 50%;\n",
              "    cursor: pointer;\n",
              "    display: none;\n",
              "    fill: var(--fill-color);\n",
              "    height: 32px;\n",
              "    padding: 0;\n",
              "    width: 32px;\n",
              "  }\n",
              "\n",
              "  .colab-df-quickchart:hover {\n",
              "    background-color: var(--hover-bg-color);\n",
              "    box-shadow: 0 1px 2px rgba(60, 64, 67, 0.3), 0 1px 3px 1px rgba(60, 64, 67, 0.15);\n",
              "    fill: var(--button-hover-fill-color);\n",
              "  }\n",
              "\n",
              "  .colab-df-quickchart-complete:disabled,\n",
              "  .colab-df-quickchart-complete:disabled:hover {\n",
              "    background-color: var(--disabled-bg-color);\n",
              "    fill: var(--disabled-fill-color);\n",
              "    box-shadow: none;\n",
              "  }\n",
              "\n",
              "  .colab-df-spinner {\n",
              "    border: 2px solid var(--fill-color);\n",
              "    border-color: transparent;\n",
              "    border-bottom-color: var(--fill-color);\n",
              "    animation:\n",
              "      spin 1s steps(1) infinite;\n",
              "  }\n",
              "\n",
              "  @keyframes spin {\n",
              "    0% {\n",
              "      border-color: transparent;\n",
              "      border-bottom-color: var(--fill-color);\n",
              "      border-left-color: var(--fill-color);\n",
              "    }\n",
              "    20% {\n",
              "      border-color: transparent;\n",
              "      border-left-color: var(--fill-color);\n",
              "      border-top-color: var(--fill-color);\n",
              "    }\n",
              "    30% {\n",
              "      border-color: transparent;\n",
              "      border-left-color: var(--fill-color);\n",
              "      border-top-color: var(--fill-color);\n",
              "      border-right-color: var(--fill-color);\n",
              "    }\n",
              "    40% {\n",
              "      border-color: transparent;\n",
              "      border-right-color: var(--fill-color);\n",
              "      border-top-color: var(--fill-color);\n",
              "    }\n",
              "    60% {\n",
              "      border-color: transparent;\n",
              "      border-right-color: var(--fill-color);\n",
              "    }\n",
              "    80% {\n",
              "      border-color: transparent;\n",
              "      border-right-color: var(--fill-color);\n",
              "      border-bottom-color: var(--fill-color);\n",
              "    }\n",
              "    90% {\n",
              "      border-color: transparent;\n",
              "      border-bottom-color: var(--fill-color);\n",
              "    }\n",
              "  }\n",
              "</style>\n",
              "\n",
              "  <script>\n",
              "    async function quickchart(key) {\n",
              "      const quickchartButtonEl =\n",
              "        document.querySelector('#' + key + ' button');\n",
              "      quickchartButtonEl.disabled = true;  // To prevent multiple clicks.\n",
              "      quickchartButtonEl.classList.add('colab-df-spinner');\n",
              "      try {\n",
              "        const charts = await google.colab.kernel.invokeFunction(\n",
              "            'suggestCharts', [key], {});\n",
              "      } catch (error) {\n",
              "        console.error('Error during call to suggestCharts:', error);\n",
              "      }\n",
              "      quickchartButtonEl.classList.remove('colab-df-spinner');\n",
              "      quickchartButtonEl.classList.add('colab-df-quickchart-complete');\n",
              "    }\n",
              "    (() => {\n",
              "      let quickchartButtonEl =\n",
              "        document.querySelector('#df-f824be9e-8997-4414-91f2-dddceb77ed8e button');\n",
              "      quickchartButtonEl.style.display =\n",
              "        google.colab.kernel.accessAllowed ? 'block' : 'none';\n",
              "    })();\n",
              "  </script>\n",
              "</div>\n",
              "\n",
              "    </div>\n",
              "  </div>\n"
            ],
            "application/vnd.google.colaboratory.intrinsic+json": {
              "type": "dataframe",
              "variable_name": "df",
              "summary": "{\n  \"name\": \"df\",\n  \"rows\": 92266,\n  \"fields\": [\n    {\n      \"column\": \"ID\",\n      \"properties\": {\n        \"dtype\": \"string\",\n        \"num_unique_values\": 92266,\n        \"samples\": [\n          \"MPD_1920_1204\",\n          \"MPD_1886_1140\",\n          \"MPD_1914_1645\"\n        ],\n        \"semantic_type\": \"\",\n        \"description\": \"\"\n      }\n    },\n    {\n      \"column\": \"CHAIN_ID\",\n      \"properties\": {\n        \"dtype\": \"category\",\n        \"num_unique_values\": 6622,\n        \"samples\": [\n          \"CID_000100\",\n          \"CID_001052\",\n          \"CID_001516\"\n        ],\n        \"semantic_type\": \"\",\n        \"description\": \"\"\n      }\n    },\n    {\n      \"column\": \"YEAR\",\n      \"properties\": {\n        \"dtype\": \"number\",\n        \"std\": 17,\n        \"min\": 1846,\n        \"max\": 1920,\n        \"num_unique_values\": 53,\n        \"samples\": [\n          1874,\n          1900,\n          1910\n        ],\n        \"semantic_type\": \"\",\n        \"description\": \"\"\n      }\n    },\n    {\n      \"column\": \"TITLE\",\n      \"properties\": {\n        \"dtype\": \"category\",\n        \"num_unique_values\": 10201,\n        \"samples\": [\n          \"NORTHERN HERALD .\",\n          \"CAMBRIDGE GAZETTE .\",\n          \"ISLE OF WIGHT ADVERTISER AND RYDE AND VENTNOR TIMES .\"\n        ],\n        \"semantic_type\": \"\",\n        \"description\": \"\"\n      }\n    },\n    {\n      \"column\": \"PRICE\",\n      \"properties\": {\n        \"dtype\": \"category\",\n        \"num_unique_values\": 422,\n        \"samples\": [\n          \"\\u00a3 1 14s 8d\",\n          \"\\u00bd d \",\n          \"3 \\u00bd d<SEP>4 \\u00bd d<SEP>1d\"\n        ],\n        \"semantic_type\": \"\",\n        \"description\": \"\"\n      }\n    },\n    {\n      \"column\": \"POLITICS\",\n      \"properties\": {\n        \"dtype\": \"category\",\n        \"num_unique_values\": 188,\n        \"samples\": [\n          \"gladstonian\",\n          \"constitutional<SEP>independent\",\n          \"constitutional\"\n        ],\n        \"semantic_type\": \"\",\n        \"description\": \"\"\n      }\n    },\n    {\n      \"column\": \"ESTABLISHED_DATE\",\n      \"properties\": {\n        \"dtype\": \"category\",\n        \"num_unique_values\": 3694,\n        \"samples\": [\n          \"1820\",\n          \"Jan . 1 , 1889\",\n          \"1839\"\n        ],\n        \"semantic_type\": \"\",\n        \"description\": \"\"\n      }\n    },\n    {\n      \"column\": \"PUBLISED_DATE\",\n      \"properties\": {\n        \"dtype\": \"category\",\n        \"num_unique_values\": 3157,\n        \"samples\": [\n          \" f<SEP>aturday\",\n          \"\\u2014<SEP>rhursday\",\n          \"Tuesday<SEP>morning<SEP>Tuesday\"\n        ],\n        \"semantic_type\": \"\",\n        \"description\": \"\"\n      }\n    },\n    {\n      \"column\": \"PERSONS\",\n      \"properties\": {\n        \"dtype\": \"category\",\n        \"num_unique_values\": 9724,\n        \"samples\": [\n          \"J. Taylor & E. Robbins\",\n          \"D. E lwards\",\n          \"S. Daniel\"\n        ],\n        \"semantic_type\": \"\",\n        \"description\": \"\"\n      }\n    },\n    {\n      \"column\": \"ORGANIZATIONS\",\n      \"properties\": {\n        \"dtype\": \"category\",\n        \"num_unique_values\": 11311,\n        \"samples\": [\n          \"Mexzborough Times Co\",\n          \"Bury Guardian Co . ( Ltd . )\",\n          \"Ingamells and Beaulah\"\n        ],\n        \"semantic_type\": \"\",\n        \"description\": \"\"\n      }\n    },\n    {\n      \"column\": \"PLACE_PUB\",\n      \"properties\": {\n        \"dtype\": \"category\",\n        \"num_unique_values\": 1120,\n        \"samples\": [\n          \"macclesfield\",\n          \"campbeltown\",\n          \"blaenau festiniog\"\n        ],\n        \"semantic_type\": \"\",\n        \"description\": \"\"\n      }\n    },\n    {\n      \"column\": \"PLACE_PUB_WIKI\",\n      \"properties\": {\n        \"dtype\": \"category\",\n        \"num_unique_values\": 1100,\n        \"samples\": [\n          \"Q2078535\",\n          \"Q1024900\",\n          \"Q20888153\"\n        ],\n        \"semantic_type\": \"\",\n        \"description\": \"\"\n      }\n    },\n    {\n      \"column\": \"PLACE_PUB_COORD\",\n      \"properties\": {\n        \"dtype\": \"category\",\n        \"num_unique_values\": 1103,\n        \"samples\": [\n          \"(53.6801, -1.492)\",\n          \"(51.02413, -3.25876)\",\n          \"(51.4311, -0.0245)\"\n        ],\n        \"semantic_type\": \"\",\n        \"description\": \"\"\n      }\n    },\n    {\n      \"column\": \"PLACES\",\n      \"properties\": {\n        \"dtype\": \"category\",\n        \"num_unique_values\": 33059,\n        \"samples\": [\n          \"Cart<SEP>Clydesdale Horse<SEP>La Belle Sauvage Yard , Ludgate Hill , E . C .\",\n          \"Waterford<SEP>Wexford<SEP>Kilkenn<SEP>Tipperary<SEP>Limerick<SEP>Cork<SEP>England<SEP>Scotland<SEP>America\",\n          \" ng Lane<SEP>New York Liverpool<SEP>Bristol<SEP>Greenosk<SEP>Cork Eastcheap Buildings ( corner of Philpot Lane ) , E . C .\"\n        ],\n        \"semantic_type\": \"\",\n        \"description\": \"\"\n      }\n    },\n    {\n      \"column\": \"PLACES_TRES\",\n      \"properties\": {\n        \"dtype\": \"category\",\n        \"num_unique_values\": 29359,\n        \"samples\": [\n          \"[{'mention': 'Peterborough', 'pos': 29, 'sent_idx': 0, 'end_pos': 41, 'tag': 'LOC', 'prediction': 'Q172438', 'ed_score': 0.006, 'latlon': [52.583333, -0.25], 'wkdt_class': 'Q515'}, {'mention': 'Huntingdonshire', 'pos': 43, 'sent_idx': 0, 'end_pos': 58, 'tag': 'LOC', 'prediction': 'Q23330', 'ed_score': 0.006, 'latlon': [52.416667, -0.25], 'wkdt_class': 'Q1187580'}, {'mention': 'Northampton - shire', 'pos': 60, 'sent_idx': 0, 'end_pos': 79, 'tag': 'LOC', 'prediction': 'Q23115', 'ed_score': 0.005, 'latlon': [52.283333, -0.833333], 'wkdt_class': 'Q180673'}, {'mention': 'Cambridgeshire', 'pos': 81, 'sent_idx': 0, 'end_pos': 95, 'tag': 'LOC', 'prediction': 'Q23112', 'ed_score': 0.005, 'latlon': [52.333333333333, 0.0], 'wkdt_class': 'Q180673'}, {'mention': 'Lincolnshire', 'pos': 97, 'sent_idx': 0, 'end_pos': 109, 'tag': 'LOC', 'prediction': 'Q23090', 'ed_score': 0.006, 'latlon': [53.066667, -0.183333], 'wkdt_class': 'Q180673'}, {'mention': 'Rutland', 'pos': 111, 'sent_idx': 0, 'end_pos': 118, 'tag': 'LOC', 'prediction': 'Q23107', 'ed_score': 0.005, 'latlon': [52.65, -0.633333], 'wkdt_class': 'Q180673'}, {'mention': 'Peterborough', 'pos': 120, 'sent_idx': 0, 'end_pos': 132, 'tag': 'LOC', 'prediction': 'Q172438', 'ed_score': 0.006, 'latlon': [52.583333, -0.25], 'wkdt_class': 'Q515'}, {'mention': 'North Hunts', 'pos': 134, 'sent_idx': 0, 'end_pos': 145, 'tag': 'LOC', 'prediction': 'NIL', 'ed_score': 0.0, 'latlon': None, 'wkdt_class': None}, {'mention': 'North Cambs', 'pos': 147, 'sent_idx': 0, 'end_pos': 158, 'tag': 'LOC', 'prediction': 'Q327168', 'ed_score': 0.007, 'latlon': [52.821389, 1.386111], 'wkdt_class': 'Q3957'}, {'mention': 'Hunts', 'pos': 160, 'sent_idx': 0, 'end_pos': 165, 'tag': 'LOC', 'prediction': 'Q23330', 'ed_score': 0.007, 'latlon': [52.416667, -0.25], 'wkdt_class': 'Q1187580'}]\",\n          \"[{'mention': 'Forres', 'pos': 29, 'sent_idx': 0, 'end_pos': 35, 'tag': 'LOC', 'prediction': 'Q1010531', 'ed_score': 0.006, 'latlon': [57.60859, -3.6157], 'wkdt_class': 'Q3957'}, {'mention': 'Elgin', 'pos': 37, 'sent_idx': 0, 'end_pos': 42, 'tag': 'LOC', 'prediction': 'Q841074', 'ed_score': 0.006, 'latlon': [57.646389, -3.315278], 'wkdt_class': 'Q3957'}, {'mention': 'Moray', 'pos': 44, 'sent_idx': 0, 'end_pos': 49, 'tag': 'LOC', 'prediction': 'Q211106', 'ed_score': 0.004, 'latlon': [57.416667, -3.25], 'wkdt_class': 'Q21457810'}, {'mention': 'Nairn', 'pos': 51, 'sent_idx': 0, 'end_pos': 56, 'tag': 'LOC', 'prediction': 'Q980084', 'ed_score': 0.006, 'latlon': [57.583333, -3.866667], 'wkdt_class': 'Q3957'}]\",\n          \"[{'mention': 'Newbury', 'pos': 29, 'sent_idx': 0, 'end_pos': 36, 'tag': 'LOC', 'prediction': 'Q655874', 'ed_score': 0.005, 'latlon': [51.4009, -1.3235], 'wkdt_class': 'Q3957'}, {'mention': 'Hungerford', 'pos': 38, 'sent_idx': 0, 'end_pos': 48, 'tag': 'LOC', 'prediction': 'Q1637841', 'ed_score': 0.006, 'latlon': [51.4144, -1.5146], 'wkdt_class': 'Q3957'}, {'mention': 'Kintbury', 'pos': 50, 'sent_idx': 0, 'end_pos': 58, 'tag': 'LOC', 'prediction': 'Q2749964', 'ed_score': 0.006, 'latlon': [51.399, -1.449], 'wkdt_class': 'Q532'}, {'mention': 'Thatcham', 'pos': 60, 'sent_idx': 0, 'end_pos': 68, 'tag': 'LOC', 'prediction': 'Q1026304', 'ed_score': 0.006, 'latlon': [51.405, -1.2645], 'wkdt_class': 'Q3957'}, {'mention': 'Reading', 'pos': 70, 'sent_idx': 0, 'end_pos': 77, 'tag': 'LOC', 'prediction': 'Q161491', 'ed_score': 0.004, 'latlon': [51.454167, -0.973056], 'wkdt_class': 'Q1357964'}, {'mention': 'Midgham', 'pos': 79, 'sent_idx': 0, 'end_pos': 86, 'tag': 'LOC', 'prediction': 'Q986140', 'ed_score': 0.006, 'latlon': [51.401, -1.203], 'wkdt_class': 'Q532'}, {'mention': 'Chieveley', 'pos': 88, 'sent_idx': 0, 'end_pos': 97, 'tag': 'LOC', 'prediction': 'Q4027640', 'ed_score': 0.006, 'latlon': [51.461, -1.319], 'wkdt_class': 'Q532'}, {'mention': 'Hampstead', 'pos': 99, 'sent_idx': 0, 'end_pos': 108, 'tag': 'LOC', 'prediction': 'Q25610', 'ed_score': 0.003, 'latlon': [51.5541, -0.1744], 'wkdt_class': 'Q3957'}, {'mention': 'Hermitage', 'pos': 117, 'sent_idx': 0, 'end_pos': 126, 'tag': 'LOC', 'prediction': 'Q1813871', 'ed_score': 0.003, 'latlon': [51.452536, -1.276217], 'wkdt_class': 'Q532'}, {'mention': 'Iisley', 'pos': 128, 'sent_idx': 0, 'end_pos': 134, 'tag': 'LOC', 'prediction': 'Q2287225', 'ed_score': 0.004, 'latlon': [51.3227, -0.4772], 'wkdt_class': 'Q532'}, {'mention': 'Inkpen', 'pos': 136, 'sent_idx': 0, 'end_pos': 142, 'tag': 'LOC', 'prediction': 'Q1864651', 'ed_score': 0.006, 'latlon': [51.377, -1.468], 'wkdt_class': 'Q532'}, {'mention': 'Kingsclere', 'pos': 144, 'sent_idx': 0, 'end_pos': 154, 'tag': 'LOC', 'prediction': 'Q1215907', 'ed_score': 0.006, 'latlon': [51.326, -1.2442], 'wkdt_class': 'Q532'}, {'mention': 'Lambourne', 'pos': 156, 'sent_idx': 0, 'end_pos': 165, 'tag': 'LOC', 'prediction': 'Q1611963', 'ed_score': 0.006, 'latlon': [51.638, 0.13], 'wkdt_class': 'Q532'}, {'mention': 'Newbury', 'pos': 167, 'sent_idx': 0, 'end_pos': 174, 'tag': 'LOC', 'prediction': 'Q655874', 'ed_score': 0.005, 'latlon': [51.4009, -1.3235], 'wkdt_class': 'Q3957'}]\"\n        ],\n        \"semantic_type\": \"\",\n        \"description\": \"\"\n      }\n    },\n    {\n      \"column\": \"TEXT\",\n      \"properties\": {\n        \"dtype\": \"string\",\n        \"num_unique_values\": 89249,\n        \"samples\": [\n          \"FARNWORTH OBSERVER . Saturday , 1d . and 2d . Liberal . \\u2014 Established May 5 , 1860 . Circulates in Farnworth , Kessloy , Little Lever , Ringley , Outwood , Radcliffe , Walkden , Over Hulton , Little Hulton , Swinton , Pendlebury , Itlam's-o'th '- Heigbt , Bolton , Davey Lever , Great Lever , Cliftor , Worsley , & c . nent Agents , Red Lion Coxi ' , Flocl Sir . ci , Loadan . ] Tm One of the many local papers established of late years , and devoted to the interests of the district in which they are published . It does not unduly favour one sect or party at the expense of another ; but progress in all matters , social and political , is advocated . Proprietor \\u2014 James Hall . ( Advt . , p . 147 .\",\n          \"FIFE NEWS . Saturday , 1d . Independent-Liberal . \\u2014 Established March , 1870 . Circulates in the counties of Fife and Kinross . It gives a careful selection of the news of the week , and full reports of local mesetings , while a full page is set apart for serial stories and literary sketches . Special editions are pub - lished for Dunfermline , Kirkcaldy , Cupar , St . Andrews , and Anstruther . It upholds the claims of the working classes to a fair consideration . Proprietor \\u2014 Robert Tullis . ( Advt . , p . 205 . )\",\n          \"ENGINEERING . Friday , 6d . Established Jan . , 1866 . I Principles : Neufral . This is entirely devoted to engineering in all its branches . The latest inventions are reported on and illustrated . Articles on important subjects connected with the profession appear in its pages , and the latest information is given on all important engineering works in progress , and , in short , all subjects connected with civil and mechanical engineering . Fublished by C . Gilbert , 37 , Bedford Street , W . C .\"\n        ],\n        \"semantic_type\": \"\",\n        \"description\": \"\"\n      }\n    }\n  ]\n}"
            }
          },
          "metadata": {},
          "execution_count": 155
        }
      ]
    },
    {
      "cell_type": "code",
      "source": [
        "# view all the columns in the dataframe\n",
        "df.columns"
      ],
      "metadata": {
        "colab": {
          "base_uri": "https://localhost:8080/"
        },
        "id": "tLiN0zJ4AGAP",
        "outputId": "a889a18e-48cd-4fda-f68b-310fc85f534d"
      },
      "execution_count": null,
      "outputs": [
        {
          "output_type": "execute_result",
          "data": {
            "text/plain": [
              "Index(['ID', 'CHAIN_ID', 'YEAR', 'TITLE', 'PRICE', 'POLITICS',\n",
              "       'ESTABLISHED_DATE', 'PUBLISED_DATE', 'PERSONS', 'ORGANIZATIONS',\n",
              "       'PLACE_PUB', 'PLACE_PUB_WIKI', 'PLACE_PUB_COORD', 'PLACES',\n",
              "       'PLACES_TRES', 'TEXT'],\n",
              "      dtype='object')"
            ]
          },
          "metadata": {},
          "execution_count": 156
        }
      ]
    },
    {
      "cell_type": "markdown",
      "source": [
        "### How old is a newspaper title?\n",
        "\n",
        "**Question**: How 'old' is the average newspaper title? How does this change over time, place and by politics?\n",
        "\n",
        "**Question**:\n",
        "- What information do need?\n",
        "-Is the information all neatly processed and parsed?\n",
        "\n",
        "\n",
        "Run the code cell below to get a negative answer ;-)\n",
        "\n"
      ],
      "metadata": {
        "id": "Cym6BR69Tdiw"
      }
    },
    {
      "cell_type": "code",
      "source": [
        "# get all the unique values in the ESTABLISHED_DATE column\n",
        "df['ESTABLISHED_DATE'].unique()"
      ],
      "metadata": {
        "colab": {
          "base_uri": "https://localhost:8080/"
        },
        "id": "qpRz0VaJAHm4",
        "outputId": "3fa0db7d-90fd-473a-8d5f-16d81d90a13f"
      },
      "execution_count": null,
      "outputs": [
        {
          "output_type": "execute_result",
          "data": {
            "text/plain": [
              "array(['January 28 , 1837', 'January 28 ; 1837', 'November , 1842', ...,\n",
              "       '1861<SEP>October , 1919', 'August 15 , 1898', 'Feb . 3 , 1917'],\n",
              "      dtype=object)"
            ]
          },
          "metadata": {},
          "execution_count": 157
        }
      ]
    },
    {
      "cell_type": "code",
      "source": [
        "# get the value counts and select the top ten\n",
        "df['ESTABLISHED_DATE'].value_counts()[:10]"
      ],
      "metadata": {
        "colab": {
          "base_uri": "https://localhost:8080/",
          "height": 429
        },
        "id": "etzyoZwnYqdF",
        "outputId": "37ccc452-3a8b-4c6c-e7e6-6cf353551f0a"
      },
      "execution_count": null,
      "outputs": [
        {
          "output_type": "execute_result",
          "data": {
            "text/plain": [
              "ESTABLISHED_DATE\n",
              "        5130\n",
              "1855    2265\n",
              "1857    1386\n",
              "1856    1200\n",
              "1860    1137\n",
              "1868    1054\n",
              "1880    1045\n",
              "1859    1038\n",
              "1858    1002\n",
              "1870     993\n",
              "Name: count, dtype: int64"
            ],
            "text/html": [
              "<div>\n",
              "<style scoped>\n",
              "    .dataframe tbody tr th:only-of-type {\n",
              "        vertical-align: middle;\n",
              "    }\n",
              "\n",
              "    .dataframe tbody tr th {\n",
              "        vertical-align: top;\n",
              "    }\n",
              "\n",
              "    .dataframe thead th {\n",
              "        text-align: right;\n",
              "    }\n",
              "</style>\n",
              "<table border=\"1\" class=\"dataframe\">\n",
              "  <thead>\n",
              "    <tr style=\"text-align: right;\">\n",
              "      <th></th>\n",
              "      <th>count</th>\n",
              "    </tr>\n",
              "    <tr>\n",
              "      <th>ESTABLISHED_DATE</th>\n",
              "      <th></th>\n",
              "    </tr>\n",
              "  </thead>\n",
              "  <tbody>\n",
              "    <tr>\n",
              "      <th></th>\n",
              "      <td>5130</td>\n",
              "    </tr>\n",
              "    <tr>\n",
              "      <th>1855</th>\n",
              "      <td>2265</td>\n",
              "    </tr>\n",
              "    <tr>\n",
              "      <th>1857</th>\n",
              "      <td>1386</td>\n",
              "    </tr>\n",
              "    <tr>\n",
              "      <th>1856</th>\n",
              "      <td>1200</td>\n",
              "    </tr>\n",
              "    <tr>\n",
              "      <th>1860</th>\n",
              "      <td>1137</td>\n",
              "    </tr>\n",
              "    <tr>\n",
              "      <th>1868</th>\n",
              "      <td>1054</td>\n",
              "    </tr>\n",
              "    <tr>\n",
              "      <th>1880</th>\n",
              "      <td>1045</td>\n",
              "    </tr>\n",
              "    <tr>\n",
              "      <th>1859</th>\n",
              "      <td>1038</td>\n",
              "    </tr>\n",
              "    <tr>\n",
              "      <th>1858</th>\n",
              "      <td>1002</td>\n",
              "    </tr>\n",
              "    <tr>\n",
              "      <th>1870</th>\n",
              "      <td>993</td>\n",
              "    </tr>\n",
              "  </tbody>\n",
              "</table>\n",
              "</div><br><label><b>dtype:</b> int64</label>"
            ]
          },
          "metadata": {},
          "execution_count": 158
        }
      ]
    },
    {
      "cell_type": "markdown",
      "source": [
        "### Searching with regular expressions\n",
        "\n",
        "We can extract the year using regular expressions.\n",
        "This is a technique to create complex queries. We define a pattern that we want to find in our text data. In this case we want to find all the years between 1700-1999.\n",
        "\n",
        "Therefore:\n",
        "- we look for numbers consisting of four digits starting with 1\n",
        "- followed by 7,8 or 9\n",
        "- and finishing with any combination of two digits"
      ],
      "metadata": {
        "id": "XlxweMd0FlWj"
      }
    },
    {
      "cell_type": "code",
      "source": [
        "# import the regular expression library\n",
        "import re\n",
        "# create the year matching pattern\n",
        "year_pattern = re.compile(r'\\b1[789][0-9]{2}\\b')"
      ],
      "metadata": {
        "id": "g3qfaX6_YnDX"
      },
      "execution_count": null,
      "outputs": []
    },
    {
      "cell_type": "markdown",
      "source": [
        "Let's evaluate the regular expression pattern on an example string\n",
        "- Question 1: change the string and test it for yourself?\n",
        "- Question 2: can/should you change the regular expression?"
      ],
      "metadata": {
        "id": "e0jPobnDFeSN"
      }
    },
    {
      "cell_type": "code",
      "source": [
        "# create a string to test the regex\n",
        "test_string = '1960 1543 0323 1789 187e 18982 1892'\n",
        "# apply regex to string\n",
        "year_pattern.findall(test_string)"
      ],
      "metadata": {
        "colab": {
          "base_uri": "https://localhost:8080/"
        },
        "id": "qD-Hy6kGTbag",
        "outputId": "ac5f820a-76db-4e32-815c-b4f42990ca76"
      },
      "execution_count": null,
      "outputs": [
        {
          "output_type": "execute_result",
          "data": {
            "text/plain": [
              "['1960', '1789', '1892']"
            ]
          },
          "metadata": {},
          "execution_count": 8
        }
      ]
    },
    {
      "cell_type": "markdown",
      "source": [
        "We can apply this regex to all the values in the ESTABLISHED_DATE column. However, there are few problems (which are very common when working with cultural heritage datasets).\n",
        "- some rows do not have a value for this columns -> **missing data**\n",
        "- some rows contain multiple years -> complex, irregular data\n",
        "\n",
        "Solutions?\n",
        "- if the cell is empty we take the value in the YEAR column\n",
        "- we just focus on the first year mentioned\n",
        "\n",
        "Please note: Both are choices, which need to be explained and motivated!"
      ],
      "metadata": {
        "id": "xYhxvS5wGULd"
      }
    },
    {
      "cell_type": "code",
      "source": [
        "# apply the regex to the ESTABLISHED_DATE data column, and save result in the ESTABLISHED_YEAR\n",
        "df['ESTABLISHED_YEAR'] = df['ESTABLISHED_DATE'].apply(lambda x: year_pattern.findall(x))\n",
        "# take either the first year find or take the YEAR value if no dates have been found\n",
        "# convert the numbers to integers\n",
        "df['ESTABLISHED_YEAR'] = df.apply(lambda x: int(x['ESTABLISHED_YEAR'][0]) if len(x['ESTABLISHED_YEAR']) > 0 else x['YEAR'], axis=1)"
      ],
      "metadata": {
        "id": "VvyBh419QwvZ"
      },
      "execution_count": null,
      "outputs": []
    },
    {
      "cell_type": "code",
      "source": [
        "# inspect the result of this operation\n",
        "df['ESTABLISHED_YEAR'].unique()"
      ],
      "metadata": {
        "colab": {
          "base_uri": "https://localhost:8080/"
        },
        "id": "Dm5JKJmeaaso",
        "outputId": "e31d91dc-1575-40c5-93d3-e938d029435b"
      },
      "execution_count": null,
      "outputs": [
        {
          "output_type": "execute_result",
          "data": {
            "text/plain": [
              "array([1837, 1842, 1844, 1849, 1806, 1836, 1748, 1744, 1718, 1717, 1790,\n",
              "       1792, 1853, 1833, 1838, 1798, 1708, 1800, 1832, 1831, 1863, 1846,\n",
              "       1856, 1877, 1845, 1816, 1820, 1830, 1789, 1769, 1772, 1834, 1828,\n",
              "       1827, 1764, 1754, 1891, 1893, 1894, 1810, 1751, 1753, 1758, 1733,\n",
              "       1841, 1840, 1821, 1711, 1725, 1721, 1720, 1714, 1819, 1795, 1705,\n",
              "       1847, 1851, 1857, 1858, 1860, 1861, 1862, 1864, 1865, 1866, 1867,\n",
              "       1868, 1869, 1870, 1871, 1872, 1873, 1874, 1875, 1878, 1879, 1880,\n",
              "       1881, 1882, 1883, 1884, 1885, 1886, 1888, 1889, 1890, 1895, 1896,\n",
              "       1898, 1899, 1900, 1902, 1903, 1905, 1907, 1908, 1910, 1912, 1914,\n",
              "       1915, 1920, 1822, 1812, 1709, 1747, 1803, 1808, 1835, 1809, 1843,\n",
              "       1848, 1801, 1802, 1782, 1783, 1817, 1797, 1811, 1829, 1826, 1737,\n",
              "       1773, 1824, 1766, 1779, 1839, 1825, 1778, 1776, 1767, 1815, 1850,\n",
              "       1887, 1852, 1855, 1854, 1876, 1799, 1745, 1807, 1739, 1713, 1774,\n",
              "       1859, 1730, 1786, 1823, 1818, 1722, 1794, 1723, 1796, 1756, 1775,\n",
              "       1731, 1750, 1788, 1729, 1814, 1770, 1761, 1741, 1716, 1710, 1763,\n",
              "       1768, 1732, 1791, 1757, 1760, 1804, 1787, 1935, 1897, 1742, 1780,\n",
              "       1735, 1976, 1746, 1736, 1765, 1892, 1793, 1805, 1759, 1901, 1990,\n",
              "       1781, 1904, 1906, 1813, 1909, 1738, 1911, 1913, 1700, 1726, 1993,\n",
              "       1918, 1956, 1919, 1916, 1719, 1917])"
            ]
          },
          "metadata": {},
          "execution_count": 11
        }
      ]
    },
    {
      "cell_type": "markdown",
      "source": [
        "Now we can compute how old a newspaper is in a given year by subtracting ESTABLISHED_YEAR from YEAR. We save this in a new column with the name SENIORITY."
      ],
      "metadata": {
        "id": "hZNlC5kQJLp8"
      }
    },
    {
      "cell_type": "code",
      "source": [
        "# save difference between YEAR and ESTABLISHED_YEAR in SENIORITY columns\n",
        "df['SENIORITY'] = df.apply(lambda x: int(x['YEAR']) - int(x['ESTABLISHED_YEAR']), axis=1)"
      ],
      "metadata": {
        "id": "l1z7ff0UkaSK"
      },
      "execution_count": null,
      "outputs": []
    },
    {
      "cell_type": "code",
      "source": [
        "# average age\n",
        "df['SENIORITY'].mean()"
      ],
      "metadata": {
        "colab": {
          "base_uri": "https://localhost:8080/"
        },
        "id": "ghm06nSjmgos",
        "outputId": "d747ecbf-e2fa-43e8-8cb2-ead3c27d29b2"
      },
      "execution_count": null,
      "outputs": [
        {
          "output_type": "execute_result",
          "data": {
            "text/plain": [
              "27.681963019964016"
            ]
          },
          "metadata": {},
          "execution_count": 14
        }
      ]
    },
    {
      "cell_type": "code",
      "source": [
        "# longest run observed\n",
        "df['SENIORITY'].max()"
      ],
      "metadata": {
        "colab": {
          "base_uri": "https://localhost:8080/"
        },
        "id": "WU4gqszsJm_t",
        "outputId": "2c652955-5cda-4916-98a3-e882d6378ae9"
      },
      "execution_count": null,
      "outputs": [
        {
          "output_type": "execute_result",
          "data": {
            "text/plain": [
              "209"
            ]
          },
          "metadata": {},
          "execution_count": 15
        }
      ]
    },
    {
      "cell_type": "markdown",
      "source": [
        "Now we can compute for each year the average SENIORITY of a newspaper titles, and plot the result"
      ],
      "metadata": {
        "id": "y1REpvCeJwqq"
      }
    },
    {
      "cell_type": "code",
      "source": [
        "# groupby by year and compute the mean for the seniority column\n",
        "df.groupby(['YEAR'])['SENIORITY'].mean().plot()"
      ],
      "metadata": {
        "colab": {
          "base_uri": "https://localhost:8080/",
          "height": 467
        },
        "id": "K2FiOTrKp5YT",
        "outputId": "0bf239e7-fc70-43ce-827a-62609515f320"
      },
      "execution_count": null,
      "outputs": [
        {
          "output_type": "execute_result",
          "data": {
            "text/plain": [
              "<Axes: xlabel='YEAR'>"
            ]
          },
          "metadata": {},
          "execution_count": 16
        },
        {
          "output_type": "display_data",
          "data": {
            "text/plain": [
              "<Figure size 640x480 with 1 Axes>"
            ],
            "image/png": "[encoded data removed]"
          },
          "metadata": {}
        }
      ]
    },
    {
      "cell_type": "markdown",
      "source": [
        "To make plotting prettier and easier, we can use the seaborn library."
      ],
      "metadata": {
        "id": "QUrI-y29J9Wb"
      }
    },
    {
      "cell_type": "code",
      "source": [
        "import seaborn as sns\n",
        "sns.set()\n",
        "sns.lineplot(x='YEAR',y='SENIORITY', data=df)"
      ],
      "metadata": {
        "colab": {
          "base_uri": "https://localhost:8080/",
          "height": 476
        },
        "id": "vS8OhGrHnCVl",
        "outputId": "b4699b7b-7cfe-4deb-ab1b-91394cff20d7"
      },
      "execution_count": null,
      "outputs": [
        {
          "output_type": "execute_result",
          "data": {
            "text/plain": [
              "<Axes: xlabel='YEAR', ylabel='SENIORITY'>"
            ]
          },
          "metadata": {},
          "execution_count": 17
        },
        {
          "output_type": "display_data",
          "data": {
            "text/plain": [
              "<Figure size 640x480 with 1 Axes>"
            ],
            "image/png": "[encoded data removed]"
          },
          "metadata": {}
        }
      ]
    },
    {
      "cell_type": "markdown",
      "source": [
        "Let's now inspect at how seniority relates to the political orientation of a newspaper."
      ],
      "metadata": {
        "id": "EQ2i0HKfKHoB"
      }
    },
    {
      "cell_type": "code",
      "source": [
        "# subset data to row containing a specific set of political labels\n",
        "data = df[df['POLITICS'].isin(['liberal', 'conservative','independent','neutral'])]\n",
        "# make a lineplot\n",
        "sns.lineplot(x='YEAR', # values for the x-axis\n",
        "             y='SENIORITY', # values for the y-axis\n",
        "             hue='POLITICS', # split data by values in this cell\n",
        "             hue_order=['conservative', 'liberal','independent','neutral'], # the order of the colors/distinctions\n",
        "             data=data # use this data\n",
        "             )"
      ],
      "metadata": {
        "colab": {
          "base_uri": "https://localhost:8080/",
          "height": 476
        },
        "id": "8d_qs2nYkn9Q",
        "outputId": "f95e961f-ee47-4967-e1b8-7bd8970feded"
      },
      "execution_count": null,
      "outputs": [
        {
          "output_type": "execute_result",
          "data": {
            "text/plain": [
              "<Axes: xlabel='YEAR', ylabel='SENIORITY'>"
            ]
          },
          "metadata": {},
          "execution_count": 18
        },
        {
          "output_type": "display_data",
          "data": {
            "text/plain": [
              "<Figure size 640x480 with 1 Axes>"
            ],
            "image/png": "[encoded data removed]"
          },
          "metadata": {}
        }
      ]
    },
    {
      "cell_type": "markdown",
      "source": [
        "Lastly, let's analyse and visualise how the seniority of the press differs by place. For this we will need to do a bit to complete a few more precessing steps. Again, don't worry if Python is new to you, just run the code!\n",
        "\n",
        "After running the code, download the file it produces ('by_place.csv') and load it into [kepler.gl](https://kepler.gl/)"
      ],
      "metadata": {
        "id": "bgmCcBvMMclG"
      }
    },
    {
      "cell_type": "code",
      "source": [
        "# remove rows without coordinates\n",
        "df = df[df['PLACE_PUB_COORD'] != '(nan, nan)']\n",
        "# groupy by place name and coordinates\n",
        "by_place = df.groupby(['PLACE_PUB','PLACE_PUB_COORD']).agg({'SENIORITY':'mean', 'ID': 'count'}).reset_index()\n",
        "# convert the coordinates from string to a tuple\n",
        "by_place['PLACE_PUB_COORD'] = by_place['PLACE_PUB_COORD'].apply(eval)\n",
        "# save coordinates in different columns\n",
        "by_place['point_latitude'] = by_place.PLACE_PUB_COORD.apply(lambda x: x[0])\n",
        "by_place['point_longitude'] = by_place.PLACE_PUB_COORD.apply(lambda x: x[1])\n",
        "# remove the original column\n",
        "by_place.drop('PLACE_PUB_COORD', axis=1, inplace=True)\n",
        "# rename ID columns to COUNT\n",
        "by_place.rename(columns={'ID':'COUNT'}, inplace=True)\n",
        "# only keep places with more than 10 observation\n",
        "by_place = by_place[by_place.COUNT > 10]\n",
        "# save the result in csv file\n",
        "by_place.to_csv('by_place.csv')\n",
        "# now download the file and load it into kepler"
      ],
      "metadata": {
        "id": "uGi3TvGfr1yl"
      },
      "execution_count": null,
      "outputs": []
    },
    {
      "cell_type": "code",
      "source": [
        "by_place"
      ],
      "metadata": {
        "colab": {
          "base_uri": "https://localhost:8080/",
          "height": 424
        },
        "id": "b573Jf2qsl3r",
        "outputId": "0da7a2ce-5621-4ac4-b546-372fa9740e64"
      },
      "execution_count": null,
      "outputs": [
        {
          "output_type": "execute_result",
          "data": {
            "text/plain": [
              "        PLACE_PUB  SENIORITY  COUNT  point_latitude  point_longitude\n",
              "1        aberdare  20.183673     98       51.713056        -3.445000\n",
              "2        aberdeen  39.910941    393       57.150000        -2.100000\n",
              "4     abergavenny  18.500000     38       51.833056        -3.017222\n",
              "5        abergele  25.980000     50       53.280000        -3.580000\n",
              "6     abertillery  13.769231     26       51.730000        -3.130000\n",
              "...           ...        ...    ...             ...              ...\n",
              "1268      wycombe  19.156250     64       51.638500        -0.807900\n",
              "1269    wymondham   8.615385     13       52.570000         1.116000\n",
              "1270     yarmouth  19.380597    134       52.633333         1.750000\n",
              "1272       yeovil  86.270833     96       50.945200        -2.637000\n",
              "1274         york  48.540541    148       53.950000        -1.083333\n",
              "\n",
              "[877 rows x 5 columns]"
            ],
            "text/html": [
              "\n",
              "  <div id=\"df-973c4a9c-04b9-4f1f-bc66-5e585a5905d9\" class=\"colab-df-container\">\n",
              "    <div>\n",
              "<style scoped>\n",
              "    .dataframe tbody tr th:only-of-type {\n",
              "        vertical-align: middle;\n",
              "    }\n",
              "\n",
              "    .dataframe tbody tr th {\n",
              "        vertical-align: top;\n",
              "    }\n",
              "\n",
              "    .dataframe thead th {\n",
              "        text-align: right;\n",
              "    }\n",
              "</style>\n",
              "<table border=\"1\" class=\"dataframe\">\n",
              "  <thead>\n",
              "    <tr style=\"text-align: right;\">\n",
              "      <th></th>\n",
              "      <th>PLACE_PUB</th>\n",
              "      <th>SENIORITY</th>\n",
              "      <th>COUNT</th>\n",
              "      <th>point_latitude</th>\n",
              "      <th>point_longitude</th>\n",
              "    </tr>\n",
              "  </thead>\n",
              "  <tbody>\n",
              "    <tr>\n",
              "      <th>1</th>\n",
              "      <td>aberdare</td>\n",
              "      <td>20.183673</td>\n",
              "      <td>98</td>\n",
              "      <td>51.713056</td>\n",
              "      <td>-3.445000</td>\n",
              "    </tr>\n",
              "    <tr>\n",
              "      <th>2</th>\n",
              "      <td>aberdeen</td>\n",
              "      <td>39.910941</td>\n",
              "      <td>393</td>\n",
              "      <td>57.150000</td>\n",
              "      <td>-2.100000</td>\n",
              "    </tr>\n",
              "    <tr>\n",
              "      <th>4</th>\n",
              "      <td>abergavenny</td>\n",
              "      <td>18.500000</td>\n",
              "      <td>38</td>\n",
              "      <td>51.833056</td>\n",
              "      <td>-3.017222</td>\n",
              "    </tr>\n",
              "    <tr>\n",
              "      <th>5</th>\n",
              "      <td>abergele</td>\n",
              "      <td>25.980000</td>\n",
              "      <td>50</td>\n",
              "      <td>53.280000</td>\n",
              "      <td>-3.580000</td>\n",
              "    </tr>\n",
              "    <tr>\n",
              "      <th>6</th>\n",
              "      <td>abertillery</td>\n",
              "      <td>13.769231</td>\n",
              "      <td>26</td>\n",
              "      <td>51.730000</td>\n",
              "      <td>-3.130000</td>\n",
              "    </tr>\n",
              "    <tr>\n",
              "      <th>...</th>\n",
              "      <td>...</td>\n",
              "      <td>...</td>\n",
              "      <td>...</td>\n",
              "      <td>...</td>\n",
              "      <td>...</td>\n",
              "    </tr>\n",
              "    <tr>\n",
              "      <th>1268</th>\n",
              "      <td>wycombe</td>\n",
              "      <td>19.156250</td>\n",
              "      <td>64</td>\n",
              "      <td>51.638500</td>\n",
              "      <td>-0.807900</td>\n",
              "    </tr>\n",
              "    <tr>\n",
              "      <th>1269</th>\n",
              "      <td>wymondham</td>\n",
              "      <td>8.615385</td>\n",
              "      <td>13</td>\n",
              "      <td>52.570000</td>\n",
              "      <td>1.116000</td>\n",
              "    </tr>\n",
              "    <tr>\n",
              "      <th>1270</th>\n",
              "      <td>yarmouth</td>\n",
              "      <td>19.380597</td>\n",
              "      <td>134</td>\n",
              "      <td>52.633333</td>\n",
              "      <td>1.750000</td>\n",
              "    </tr>\n",
              "    <tr>\n",
              "      <th>1272</th>\n",
              "      <td>yeovil</td>\n",
              "      <td>86.270833</td>\n",
              "      <td>96</td>\n",
              "      <td>50.945200</td>\n",
              "      <td>-2.637000</td>\n",
              "    </tr>\n",
              "    <tr>\n",
              "      <th>1274</th>\n",
              "      <td>york</td>\n",
              "      <td>48.540541</td>\n",
              "      <td>148</td>\n",
              "      <td>53.950000</td>\n",
              "      <td>-1.083333</td>\n",
              "    </tr>\n",
              "  </tbody>\n",
              "</table>\n",
              "<p>877 rows × 5 columns</p>\n",
              "</div>\n",
              "    <div class=\"colab-df-buttons\">\n",
              "\n",
              "  <div class=\"colab-df-container\">\n",
              "    <button class=\"colab-df-convert\" onclick=\"convertToInteractive('df-973c4a9c-04b9-4f1f-bc66-5e585a5905d9')\"\n",
              "            title=\"Convert this dataframe to an interactive table.\"\n",
              "            style=\"display:none;\">\n",
              "\n",
              "  <svg xmlns=\"http://www.w3.org/2000/svg\" height=\"24px\" viewBox=\"0 -960 960 960\">\n",
              "    <path d=\"M120-120v-720h720v720H120Zm60-500h600v-160H180v160Zm220 220h160v-160H400v160Zm0 220h160v-160H400v160ZM180-400h160v-160H180v160Zm440 0h160v-160H620v160ZM180-180h160v-160H180v160Zm440 0h160v-160H620v160Z\"/>\n",
              "  </svg>\n",
              "    </button>\n",
              "\n",
              "  <style>\n",
              "    .colab-df-container {\n",
              "      display:flex;\n",
              "      gap: 12px;\n",
              "    }\n",
              "\n",
              "    .colab-df-convert {\n",
              "      background-color: #E8F0FE;\n",
              "      border: none;\n",
              "      border-radius: 50%;\n",
              "      cursor: pointer;\n",
              "      display: none;\n",
              "      fill: #1967D2;\n",
              "      height: 32px;\n",
              "      padding: 0 0 0 0;\n",
              "      width: 32px;\n",
              "    }\n",
              "\n",
              "    .colab-df-convert:hover {\n",
              "      background-color: #E2EBFA;\n",
              "      box-shadow: 0px 1px 2px rgba(60, 64, 67, 0.3), 0px 1px 3px 1px rgba(60, 64, 67, 0.15);\n",
              "      fill: #174EA6;\n",
              "    }\n",
              "\n",
              "    .colab-df-buttons div {\n",
              "      margin-bottom: 4px;\n",
              "    }\n",
              "\n",
              "    [theme=dark] .colab-df-convert {\n",
              "      background-color: #3B4455;\n",
              "      fill: #D2E3FC;\n",
              "    }\n",
              "\n",
              "    [theme=dark] .colab-df-convert:hover {\n",
              "      background-color: #434B5C;\n",
              "      box-shadow: 0px 1px 3px 1px rgba(0, 0, 0, 0.15);\n",
              "      filter: drop-shadow(0px 1px 2px rgba(0, 0, 0, 0.3));\n",
              "      fill: #FFFFFF;\n",
              "    }\n",
              "  </style>\n",
              "\n",
              "    <script>\n",
              "      const buttonEl =\n",
              "        document.querySelector('#df-973c4a9c-04b9-4f1f-bc66-5e585a5905d9 button.colab-df-convert');\n",
              "      buttonEl.style.display =\n",
              "        google.colab.kernel.accessAllowed ? 'block' : 'none';\n",
              "\n",
              "      async function convertToInteractive(key) {\n",
              "        const element = document.querySelector('#df-973c4a9c-04b9-4f1f-bc66-5e585a5905d9');\n",
              "        const dataTable =\n",
              "          await google.colab.kernel.invokeFunction('convertToInteractive',\n",
              "                                                    [key], {});\n",
              "        if (!dataTable) return;\n",
              "\n",
              "        const docLinkHtml = 'Like what you see? Visit the ' +\n",
              "          '<a target=\"_blank\" href=https://colab.research.google.com/notebooks/data_table.ipynb>data table notebook</a>'\n",
              "          + ' to learn more about interactive tables.';\n",
              "        element.innerHTML = '';\n",
              "        dataTable['output_type'] = 'display_data';\n",
              "        await google.colab.output.renderOutput(dataTable, element);\n",
              "        const docLink = document.createElement('div');\n",
              "        docLink.innerHTML = docLinkHtml;\n",
              "        element.appendChild(docLink);\n",
              "      }\n",
              "    </script>\n",
              "  </div>\n",
              "\n",
              "\n",
              "<div id=\"df-4829cefa-6b24-43fc-9061-08fa45c16944\">\n",
              "  <button class=\"colab-df-quickchart\" onclick=\"quickchart('df-4829cefa-6b24-43fc-9061-08fa45c16944')\"\n",
              "            title=\"Suggest charts\"\n",
              "            style=\"display:none;\">\n",
              "\n",
              "<svg xmlns=\"http://www.w3.org/2000/svg\" height=\"24px\"viewBox=\"0 0 24 24\"\n",
              "     width=\"24px\">\n",
              "    <g>\n",
              "        <path d=\"M19 3H5c-1.1 0-2 .9-2 2v14c0 1.1.9 2 2 2h14c1.1 0 2-.9 2-2V5c0-1.1-.9-2-2-2zM9 17H7v-7h2v7zm4 0h-2V7h2v10zm4 0h-2v-4h2v4z\"/>\n",
              "    </g>\n",
              "</svg>\n",
              "  </button>\n",
              "\n",
              "<style>\n",
              "  .colab-df-quickchart {\n",
              "      --bg-color: #E8F0FE;\n",
              "      --fill-color: #1967D2;\n",
              "      --hover-bg-color: #E2EBFA;\n",
              "      --hover-fill-color: #174EA6;\n",
              "      --disabled-fill-color: #AAA;\n",
              "      --disabled-bg-color: #DDD;\n",
              "  }\n",
              "\n",
              "  [theme=dark] .colab-df-quickchart {\n",
              "      --bg-color: #3B4455;\n",
              "      --fill-color: #D2E3FC;\n",
              "      --hover-bg-color: #434B5C;\n",
              "      --hover-fill-color: #FFFFFF;\n",
              "      --disabled-bg-color: #3B4455;\n",
              "      --disabled-fill-color: #666;\n",
              "  }\n",
              "\n",
              "  .colab-df-quickchart {\n",
              "    background-color: var(--bg-color);\n",
              "    border: none;\n",
              "    border-radius: 50%;\n",
              "    cursor: pointer;\n",
              "    display: none;\n",
              "    fill: var(--fill-color);\n",
              "    height: 32px;\n",
              "    padding: 0;\n",
              "    width: 32px;\n",
              "  }\n",
              "\n",
              "  .colab-df-quickchart:hover {\n",
              "    background-color: var(--hover-bg-color);\n",
              "    box-shadow: 0 1px 2px rgba(60, 64, 67, 0.3), 0 1px 3px 1px rgba(60, 64, 67, 0.15);\n",
              "    fill: var(--button-hover-fill-color);\n",
              "  }\n",
              "\n",
              "  .colab-df-quickchart-complete:disabled,\n",
              "  .colab-df-quickchart-complete:disabled:hover {\n",
              "    background-color: var(--disabled-bg-color);\n",
              "    fill: var(--disabled-fill-color);\n",
              "    box-shadow: none;\n",
              "  }\n",
              "\n",
              "  .colab-df-spinner {\n",
              "    border: 2px solid var(--fill-color);\n",
              "    border-color: transparent;\n",
              "    border-bottom-color: var(--fill-color);\n",
              "    animation:\n",
              "      spin 1s steps(1) infinite;\n",
              "  }\n",
              "\n",
              "  @keyframes spin {\n",
              "    0% {\n",
              "      border-color: transparent;\n",
              "      border-bottom-color: var(--fill-color);\n",
              "      border-left-color: var(--fill-color);\n",
              "    }\n",
              "    20% {\n",
              "      border-color: transparent;\n",
              "      border-left-color: var(--fill-color);\n",
              "      border-top-color: var(--fill-color);\n",
              "    }\n",
              "    30% {\n",
              "      border-color: transparent;\n",
              "      border-left-color: var(--fill-color);\n",
              "      border-top-color: var(--fill-color);\n",
              "      border-right-color: var(--fill-color);\n",
              "    }\n",
              "    40% {\n",
              "      border-color: transparent;\n",
              "      border-right-color: var(--fill-color);\n",
              "      border-top-color: var(--fill-color);\n",
              "    }\n",
              "    60% {\n",
              "      border-color: transparent;\n",
              "      border-right-color: var(--fill-color);\n",
              "    }\n",
              "    80% {\n",
              "      border-color: transparent;\n",
              "      border-right-color: var(--fill-color);\n",
              "      border-bottom-color: var(--fill-color);\n",
              "    }\n",
              "    90% {\n",
              "      border-color: transparent;\n",
              "      border-bottom-color: var(--fill-color);\n",
              "    }\n",
              "  }\n",
              "</style>\n",
              "\n",
              "  <script>\n",
              "    async function quickchart(key) {\n",
              "      const quickchartButtonEl =\n",
              "        document.querySelector('#' + key + ' button');\n",
              "      quickchartButtonEl.disabled = true;  // To prevent multiple clicks.\n",
              "      quickchartButtonEl.classList.add('colab-df-spinner');\n",
              "      try {\n",
              "        const charts = await google.colab.kernel.invokeFunction(\n",
              "            'suggestCharts', [key], {});\n",
              "      } catch (error) {\n",
              "        console.error('Error during call to suggestCharts:', error);\n",
              "      }\n",
              "      quickchartButtonEl.classList.remove('colab-df-spinner');\n",
              "      quickchartButtonEl.classList.add('colab-df-quickchart-complete');\n",
              "    }\n",
              "    (() => {\n",
              "      let quickchartButtonEl =\n",
              "        document.querySelector('#df-4829cefa-6b24-43fc-9061-08fa45c16944 button');\n",
              "      quickchartButtonEl.style.display =\n",
              "        google.colab.kernel.accessAllowed ? 'block' : 'none';\n",
              "    })();\n",
              "  </script>\n",
              "</div>\n",
              "\n",
              "  <div id=\"id_a4e5ff9f-1ca5-48c2-abce-dc8052f9c052\">\n",
              "    <style>\n",
              "      .colab-df-generate {\n",
              "        background-color: #E8F0FE;\n",
              "        border: none;\n",
              "        border-radius: 50%;\n",
              "        cursor: pointer;\n",
              "        display: none;\n",
              "        fill: #1967D2;\n",
              "        height: 32px;\n",
              "        padding: 0 0 0 0;\n",
              "        width: 32px;\n",
              "      }\n",
              "\n",
              "      .colab-df-generate:hover {\n",
              "        background-color: #E2EBFA;\n",
              "        box-shadow: 0px 1px 2px rgba(60, 64, 67, 0.3), 0px 1px 3px 1px rgba(60, 64, 67, 0.15);\n",
              "        fill: #174EA6;\n",
              "      }\n",
              "\n",
              "      [theme=dark] .colab-df-generate {\n",
              "        background-color: #3B4455;\n",
              "        fill: #D2E3FC;\n",
              "      }\n",
              "\n",
              "      [theme=dark] .colab-df-generate:hover {\n",
              "        background-color: #434B5C;\n",
              "        box-shadow: 0px 1px 3px 1px rgba(0, 0, 0, 0.15);\n",
              "        filter: drop-shadow(0px 1px 2px rgba(0, 0, 0, 0.3));\n",
              "        fill: #FFFFFF;\n",
              "      }\n",
              "    </style>\n",
              "    <button class=\"colab-df-generate\" onclick=\"generateWithVariable('by_place')\"\n",
              "            title=\"Generate code using this dataframe.\"\n",
              "            style=\"display:none;\">\n",
              "\n",
              "  <svg xmlns=\"http://www.w3.org/2000/svg\" height=\"24px\"viewBox=\"0 0 24 24\"\n",
              "       width=\"24px\">\n",
              "    <path d=\"M7,19H8.4L18.45,9,17,7.55,7,17.6ZM5,21V16.75L18.45,3.32a2,2,0,0,1,2.83,0l1.4,1.43a1.91,1.91,0,0,1,.58,1.4,1.91,1.91,0,0,1-.58,1.4L9.25,21ZM18.45,9,17,7.55Zm-12,3A5.31,5.31,0,0,0,4.9,8.1,5.31,5.31,0,0,0,1,6.5,5.31,5.31,0,0,0,4.9,4.9,5.31,5.31,0,0,0,6.5,1,5.31,5.31,0,0,0,8.1,4.9,5.31,5.31,0,0,0,12,6.5,5.46,5.46,0,0,0,6.5,12Z\"/>\n",
              "  </svg>\n",
              "    </button>\n",
              "    <script>\n",
              "      (() => {\n",
              "      const buttonEl =\n",
              "        document.querySelector('#id_a4e5ff9f-1ca5-48c2-abce-dc8052f9c052 button.colab-df-generate');\n",
              "      buttonEl.style.display =\n",
              "        google.colab.kernel.accessAllowed ? 'block' : 'none';\n",
              "\n",
              "      buttonEl.onclick = () => {\n",
              "        google.colab.notebook.generateWithVariable('by_place');\n",
              "      }\n",
              "      })();\n",
              "    </script>\n",
              "  </div>\n",
              "\n",
              "    </div>\n",
              "  </div>\n"
            ],
            "application/vnd.google.colaboratory.intrinsic+json": {
              "type": "dataframe",
              "variable_name": "by_place",
              "summary": "{\n  \"name\": \"by_place\",\n  \"rows\": 877,\n  \"fields\": [\n    {\n      \"column\": \"PLACE_PUB\",\n      \"properties\": {\n        \"dtype\": \"string\",\n        \"num_unique_values\": 868,\n        \"samples\": [\n          \"huntingdon\",\n          \"bathgate\",\n          \"lyme regis\"\n        ],\n        \"semantic_type\": \"\",\n        \"description\": \"\"\n      }\n    },\n    {\n      \"column\": \"SENIORITY\",\n      \"properties\": {\n        \"dtype\": \"number\",\n        \"std\": 12.636537670429451,\n        \"min\": 0.0,\n        \"max\": 86.27083333333333,\n        \"num_unique_values\": 849,\n        \"samples\": [\n          22.015873015873016,\n          16.48148148148148,\n          11.806451612903226\n        ],\n        \"semantic_type\": \"\",\n        \"description\": \"\"\n      }\n    },\n    {\n      \"column\": \"COUNT\",\n      \"properties\": {\n        \"dtype\": \"number\",\n        \"std\": 583,\n        \"min\": 11,\n        \"max\": 17104,\n        \"num_unique_values\": 218,\n        \"samples\": [\n          88,\n          343,\n          109\n        ],\n        \"semantic_type\": \"\",\n        \"description\": \"\"\n      }\n    },\n    {\n      \"column\": \"point_latitude\",\n      \"properties\": {\n        \"dtype\": \"number\",\n        \"std\": 1.7255980440679952,\n        \"min\": 49.21,\n        \"max\": 60.154167,\n        \"num_unique_values\": 836,\n        \"samples\": [\n          51.237644,\n          51.60475,\n          51.657\n        ],\n        \"semantic_type\": \"\",\n        \"description\": \"\"\n      }\n    },\n    {\n      \"column\": \"point_longitude\",\n      \"properties\": {\n        \"dtype\": \"number\",\n        \"std\": 2.1196658407756845,\n        \"min\": -9.6962,\n        \"max\": 1.75,\n        \"num_unique_values\": 845,\n        \"samples\": [\n          -2.963186,\n          -1.3002,\n          -3.480189\n        ],\n        \"semantic_type\": \"\",\n        \"description\": \"\"\n      }\n    }\n  ]\n}"
            }
          },
          "metadata": {},
          "execution_count": 31
        }
      ]
    },
    {
      "cell_type": "code",
      "source": [],
      "metadata": {
        "id": "7vArykMSpsKK"
      },
      "execution_count": null,
      "outputs": []
    },
    {
      "cell_type": "markdown",
      "source": [
        "### Women in the press"
      ],
      "metadata": {
        "id": "ixL0XOGJQwRz"
      }
    },
    {
      "cell_type": "code",
      "source": [
        "# load the dataframe\n",
        "df = pd.read_csv('https://bl.iro.bl.uk/downloads/da65047c-4d62-4ab7-946f-8e61e5f6f331?locale=en', index_col=0)"
      ],
      "metadata": {
        "id": "abjeZcu9jZMu"
      },
      "execution_count": null,
      "outputs": []
    },
    {
      "cell_type": "code",
      "source": [
        "# replace not a number nan with empty spaces\n",
        "df.fillna('', inplace=True)"
      ],
      "metadata": {
        "id": "Fi6T791BQ6qn"
      },
      "execution_count": null,
      "outputs": []
    },
    {
      "cell_type": "code",
      "source": [
        "# show three random rows\n",
        "df.sample(3)"
      ],
      "metadata": {
        "colab": {
          "base_uri": "https://localhost:8080/",
          "height": 372
        },
        "id": "Iz87jbhdQ0OF",
        "outputId": "cc54c411-7078-4c46-f5a8-da4b9850d80d"
      },
      "execution_count": null,
      "outputs": [
        {
          "output_type": "execute_result",
          "data": {
            "text/plain": [
              "                  ID    CHAIN_ID  YEAR                     TITLE PRICE  \\\n",
              "13158  MPD_1914_1065  CID_000294  1914          HEXHAM COURANT .    1d   \n",
              "56443   MPD_1873_891  CID_002056  1873         OXFORD GUARDIAN .    1d   \n",
              "82230   MPD_1896_909  CID_006026  1896  YORKSHIRE EVENING POST .   ½ d   \n",
              "\n",
              "      POLITICS ESTABLISHED_DATE        PUBLISED_DATE        PERSONS  \\\n",
              "13158  liberal    August , 1864  Friday<SEP>Saturday                  \n",
              "56443  neutral  February , 1872            Wednesday  W. A. Vincent   \n",
              "82230                                          Daily                  \n",
              "\n",
              "                                           ORGANIZATIONS PLACE_PUB  \\\n",
              "13158                                 J . Catherall & Co    hexham   \n",
              "56443                                                       oxford   \n",
              "82230  Zvening<SEP>The Yorkshire Conservative Newspap...     leeds   \n",
              "\n",
              "      PLACE_PUB_WIKI         PLACE_PUB_COORD  \\\n",
              "13158        Q947400       (54.966667, -2.1)   \n",
              "56443         Q34217  (51.751944, -1.257778)   \n",
              "82230         Q39121  (53.799722, -1.549167)   \n",
              "\n",
              "                                                  PLACES  \\\n",
              "13158  Northumberland<SEP>Cumberland<SEP>Durham<SEP>S...   \n",
              "56443                                             Oxford   \n",
              "82230                         Yorkshire<SEP>Fleet Street   \n",
              "\n",
              "                                             PLACES_TRES  \\\n",
              "13158  [{'mention': 'Northumberland', 'pos': 29, 'sen...   \n",
              "56443  [{'mention': 'Oxford', 'pos': 29, 'sent_idx': ...   \n",
              "82230  [{'mention': 'Yorkshire', 'pos': 29, 'sent_idx...   \n",
              "\n",
              "                                                    TEXT  \n",
              "13158  HEXHAM COURANT . Friday for Saturday , 1d . Li...  \n",
              "56443  OXFORD GUARDIAN . Wednesday , 1d . Neutral . —...  \n",
              "82230  YORKSHIRE EVENING POST . Daily , ½ d . One of ...  "
            ],
            "text/html": [
              "\n",
              "  <div id=\"df-444dcd9b-26dd-404c-bbf5-11b6549c8811\" class=\"colab-df-container\">\n",
              "    <div>\n",
              "<style scoped>\n",
              "    .dataframe tbody tr th:only-of-type {\n",
              "        vertical-align: middle;\n",
              "    }\n",
              "\n",
              "    .dataframe tbody tr th {\n",
              "        vertical-align: top;\n",
              "    }\n",
              "\n",
              "    .dataframe thead th {\n",
              "        text-align: right;\n",
              "    }\n",
              "</style>\n",
              "<table border=\"1\" class=\"dataframe\">\n",
              "  <thead>\n",
              "    <tr style=\"text-align: right;\">\n",
              "      <th></th>\n",
              "      <th>ID</th>\n",
              "      <th>CHAIN_ID</th>\n",
              "      <th>YEAR</th>\n",
              "      <th>TITLE</th>\n",
              "      <th>PRICE</th>\n",
              "      <th>POLITICS</th>\n",
              "      <th>ESTABLISHED_DATE</th>\n",
              "      <th>PUBLISED_DATE</th>\n",
              "      <th>PERSONS</th>\n",
              "      <th>ORGANIZATIONS</th>\n",
              "      <th>PLACE_PUB</th>\n",
              "      <th>PLACE_PUB_WIKI</th>\n",
              "      <th>PLACE_PUB_COORD</th>\n",
              "      <th>PLACES</th>\n",
              "      <th>PLACES_TRES</th>\n",
              "      <th>TEXT</th>\n",
              "    </tr>\n",
              "  </thead>\n",
              "  <tbody>\n",
              "    <tr>\n",
              "      <th>13158</th>\n",
              "      <td>MPD_1914_1065</td>\n",
              "      <td>CID_000294</td>\n",
              "      <td>1914</td>\n",
              "      <td>HEXHAM COURANT .</td>\n",
              "      <td>1d</td>\n",
              "      <td>liberal</td>\n",
              "      <td>August , 1864</td>\n",
              "      <td>Friday&lt;SEP&gt;Saturday</td>\n",
              "      <td></td>\n",
              "      <td>J . Catherall &amp; Co</td>\n",
              "      <td>hexham</td>\n",
              "      <td>Q947400</td>\n",
              "      <td>(54.966667, -2.1)</td>\n",
              "      <td>Northumberland&lt;SEP&gt;Cumberland&lt;SEP&gt;Durham&lt;SEP&gt;S...</td>\n",
              "      <td>[{'mention': 'Northumberland', 'pos': 29, 'sen...</td>\n",
              "      <td>HEXHAM COURANT . Friday for Saturday , 1d . Li...</td>\n",
              "    </tr>\n",
              "    <tr>\n",
              "      <th>56443</th>\n",
              "      <td>MPD_1873_891</td>\n",
              "      <td>CID_002056</td>\n",
              "      <td>1873</td>\n",
              "      <td>OXFORD GUARDIAN .</td>\n",
              "      <td>1d</td>\n",
              "      <td>neutral</td>\n",
              "      <td>February , 1872</td>\n",
              "      <td>Wednesday</td>\n",
              "      <td>W. A. Vincent</td>\n",
              "      <td></td>\n",
              "      <td>oxford</td>\n",
              "      <td>Q34217</td>\n",
              "      <td>(51.751944, -1.257778)</td>\n",
              "      <td>Oxford</td>\n",
              "      <td>[{'mention': 'Oxford', 'pos': 29, 'sent_idx': ...</td>\n",
              "      <td>OXFORD GUARDIAN . Wednesday , 1d . Neutral . —...</td>\n",
              "    </tr>\n",
              "    <tr>\n",
              "      <th>82230</th>\n",
              "      <td>MPD_1896_909</td>\n",
              "      <td>CID_006026</td>\n",
              "      <td>1896</td>\n",
              "      <td>YORKSHIRE EVENING POST .</td>\n",
              "      <td>½ d</td>\n",
              "      <td></td>\n",
              "      <td></td>\n",
              "      <td>Daily</td>\n",
              "      <td></td>\n",
              "      <td>Zvening&lt;SEP&gt;The Yorkshire Conservative Newspap...</td>\n",
              "      <td>leeds</td>\n",
              "      <td>Q39121</td>\n",
              "      <td>(53.799722, -1.549167)</td>\n",
              "      <td>Yorkshire&lt;SEP&gt;Fleet Street</td>\n",
              "      <td>[{'mention': 'Yorkshire', 'pos': 29, 'sent_idx...</td>\n",
              "      <td>YORKSHIRE EVENING POST . Daily , ½ d . One of ...</td>\n",
              "    </tr>\n",
              "  </tbody>\n",
              "</table>\n",
              "</div>\n",
              "    <div class=\"colab-df-buttons\">\n",
              "\n",
              "  <div class=\"colab-df-container\">\n",
              "    <button class=\"colab-df-convert\" onclick=\"convertToInteractive('df-444dcd9b-26dd-404c-bbf5-11b6549c8811')\"\n",
              "            title=\"Convert this dataframe to an interactive table.\"\n",
              "            style=\"display:none;\">\n",
              "\n",
              "  <svg xmlns=\"http://www.w3.org/2000/svg\" height=\"24px\" viewBox=\"0 -960 960 960\">\n",
              "    <path d=\"M120-120v-720h720v720H120Zm60-500h600v-160H180v160Zm220 220h160v-160H400v160Zm0 220h160v-160H400v160ZM180-400h160v-160H180v160Zm440 0h160v-160H620v160ZM180-180h160v-160H180v160Zm440 0h160v-160H620v160Z\"/>\n",
              "  </svg>\n",
              "    </button>\n",
              "\n",
              "  <style>\n",
              "    .colab-df-container {\n",
              "      display:flex;\n",
              "      gap: 12px;\n",
              "    }\n",
              "\n",
              "    .colab-df-convert {\n",
              "      background-color: #E8F0FE;\n",
              "      border: none;\n",
              "      border-radius: 50%;\n",
              "      cursor: pointer;\n",
              "      display: none;\n",
              "      fill: #1967D2;\n",
              "      height: 32px;\n",
              "      padding: 0 0 0 0;\n",
              "      width: 32px;\n",
              "    }\n",
              "\n",
              "    .colab-df-convert:hover {\n",
              "      background-color: #E2EBFA;\n",
              "      box-shadow: 0px 1px 2px rgba(60, 64, 67, 0.3), 0px 1px 3px 1px rgba(60, 64, 67, 0.15);\n",
              "      fill: #174EA6;\n",
              "    }\n",
              "\n",
              "    .colab-df-buttons div {\n",
              "      margin-bottom: 4px;\n",
              "    }\n",
              "\n",
              "    [theme=dark] .colab-df-convert {\n",
              "      background-color: #3B4455;\n",
              "      fill: #D2E3FC;\n",
              "    }\n",
              "\n",
              "    [theme=dark] .colab-df-convert:hover {\n",
              "      background-color: #434B5C;\n",
              "      box-shadow: 0px 1px 3px 1px rgba(0, 0, 0, 0.15);\n",
              "      filter: drop-shadow(0px 1px 2px rgba(0, 0, 0, 0.3));\n",
              "      fill: #FFFFFF;\n",
              "    }\n",
              "  </style>\n",
              "\n",
              "    <script>\n",
              "      const buttonEl =\n",
              "        document.querySelector('#df-444dcd9b-26dd-404c-bbf5-11b6549c8811 button.colab-df-convert');\n",
              "      buttonEl.style.display =\n",
              "        google.colab.kernel.accessAllowed ? 'block' : 'none';\n",
              "\n",
              "      async function convertToInteractive(key) {\n",
              "        const element = document.querySelector('#df-444dcd9b-26dd-404c-bbf5-11b6549c8811');\n",
              "        const dataTable =\n",
              "          await google.colab.kernel.invokeFunction('convertToInteractive',\n",
              "                                                    [key], {});\n",
              "        if (!dataTable) return;\n",
              "\n",
              "        const docLinkHtml = 'Like what you see? Visit the ' +\n",
              "          '<a target=\"_blank\" href=https://colab.research.google.com/notebooks/data_table.ipynb>data table notebook</a>'\n",
              "          + ' to learn more about interactive tables.';\n",
              "        element.innerHTML = '';\n",
              "        dataTable['output_type'] = 'display_data';\n",
              "        await google.colab.output.renderOutput(dataTable, element);\n",
              "        const docLink = document.createElement('div');\n",
              "        docLink.innerHTML = docLinkHtml;\n",
              "        element.appendChild(docLink);\n",
              "      }\n",
              "    </script>\n",
              "  </div>\n",
              "\n",
              "\n",
              "<div id=\"df-49a02105-972f-4095-9e6a-4398417f4f67\">\n",
              "  <button class=\"colab-df-quickchart\" onclick=\"quickchart('df-49a02105-972f-4095-9e6a-4398417f4f67')\"\n",
              "            title=\"Suggest charts\"\n",
              "            style=\"display:none;\">\n",
              "\n",
              "<svg xmlns=\"http://www.w3.org/2000/svg\" height=\"24px\"viewBox=\"0 0 24 24\"\n",
              "     width=\"24px\">\n",
              "    <g>\n",
              "        <path d=\"M19 3H5c-1.1 0-2 .9-2 2v14c0 1.1.9 2 2 2h14c1.1 0 2-.9 2-2V5c0-1.1-.9-2-2-2zM9 17H7v-7h2v7zm4 0h-2V7h2v10zm4 0h-2v-4h2v4z\"/>\n",
              "    </g>\n",
              "</svg>\n",
              "  </button>\n",
              "\n",
              "<style>\n",
              "  .colab-df-quickchart {\n",
              "      --bg-color: #E8F0FE;\n",
              "      --fill-color: #1967D2;\n",
              "      --hover-bg-color: #E2EBFA;\n",
              "      --hover-fill-color: #174EA6;\n",
              "      --disabled-fill-color: #AAA;\n",
              "      --disabled-bg-color: #DDD;\n",
              "  }\n",
              "\n",
              "  [theme=dark] .colab-df-quickchart {\n",
              "      --bg-color: #3B4455;\n",
              "      --fill-color: #D2E3FC;\n",
              "      --hover-bg-color: #434B5C;\n",
              "      --hover-fill-color: #FFFFFF;\n",
              "      --disabled-bg-color: #3B4455;\n",
              "      --disabled-fill-color: #666;\n",
              "  }\n",
              "\n",
              "  .colab-df-quickchart {\n",
              "    background-color: var(--bg-color);\n",
              "    border: none;\n",
              "    border-radius: 50%;\n",
              "    cursor: pointer;\n",
              "    display: none;\n",
              "    fill: var(--fill-color);\n",
              "    height: 32px;\n",
              "    padding: 0;\n",
              "    width: 32px;\n",
              "  }\n",
              "\n",
              "  .colab-df-quickchart:hover {\n",
              "    background-color: var(--hover-bg-color);\n",
              "    box-shadow: 0 1px 2px rgba(60, 64, 67, 0.3), 0 1px 3px 1px rgba(60, 64, 67, 0.15);\n",
              "    fill: var(--button-hover-fill-color);\n",
              "  }\n",
              "\n",
              "  .colab-df-quickchart-complete:disabled,\n",
              "  .colab-df-quickchart-complete:disabled:hover {\n",
              "    background-color: var(--disabled-bg-color);\n",
              "    fill: var(--disabled-fill-color);\n",
              "    box-shadow: none;\n",
              "  }\n",
              "\n",
              "  .colab-df-spinner {\n",
              "    border: 2px solid var(--fill-color);\n",
              "    border-color: transparent;\n",
              "    border-bottom-color: var(--fill-color);\n",
              "    animation:\n",
              "      spin 1s steps(1) infinite;\n",
              "  }\n",
              "\n",
              "  @keyframes spin {\n",
              "    0% {\n",
              "      border-color: transparent;\n",
              "      border-bottom-color: var(--fill-color);\n",
              "      border-left-color: var(--fill-color);\n",
              "    }\n",
              "    20% {\n",
              "      border-color: transparent;\n",
              "      border-left-color: var(--fill-color);\n",
              "      border-top-color: var(--fill-color);\n",
              "    }\n",
              "    30% {\n",
              "      border-color: transparent;\n",
              "      border-left-color: var(--fill-color);\n",
              "      border-top-color: var(--fill-color);\n",
              "      border-right-color: var(--fill-color);\n",
              "    }\n",
              "    40% {\n",
              "      border-color: transparent;\n",
              "      border-right-color: var(--fill-color);\n",
              "      border-top-color: var(--fill-color);\n",
              "    }\n",
              "    60% {\n",
              "      border-color: transparent;\n",
              "      border-right-color: var(--fill-color);\n",
              "    }\n",
              "    80% {\n",
              "      border-color: transparent;\n",
              "      border-right-color: var(--fill-color);\n",
              "      border-bottom-color: var(--fill-color);\n",
              "    }\n",
              "    90% {\n",
              "      border-color: transparent;\n",
              "      border-bottom-color: var(--fill-color);\n",
              "    }\n",
              "  }\n",
              "</style>\n",
              "\n",
              "  <script>\n",
              "    async function quickchart(key) {\n",
              "      const quickchartButtonEl =\n",
              "        document.querySelector('#' + key + ' button');\n",
              "      quickchartButtonEl.disabled = true;  // To prevent multiple clicks.\n",
              "      quickchartButtonEl.classList.add('colab-df-spinner');\n",
              "      try {\n",
              "        const charts = await google.colab.kernel.invokeFunction(\n",
              "            'suggestCharts', [key], {});\n",
              "      } catch (error) {\n",
              "        console.error('Error during call to suggestCharts:', error);\n",
              "      }\n",
              "      quickchartButtonEl.classList.remove('colab-df-spinner');\n",
              "      quickchartButtonEl.classList.add('colab-df-quickchart-complete');\n",
              "    }\n",
              "    (() => {\n",
              "      let quickchartButtonEl =\n",
              "        document.querySelector('#df-49a02105-972f-4095-9e6a-4398417f4f67 button');\n",
              "      quickchartButtonEl.style.display =\n",
              "        google.colab.kernel.accessAllowed ? 'block' : 'none';\n",
              "    })();\n",
              "  </script>\n",
              "</div>\n",
              "\n",
              "    </div>\n",
              "  </div>\n"
            ],
            "application/vnd.google.colaboratory.intrinsic+json": {
              "type": "dataframe",
              "repr_error": "0"
            }
          },
          "metadata": {},
          "execution_count": 36
        }
      ]
    },
    {
      "cell_type": "code",
      "source": [
        "df['PERSONS'].unique()"
      ],
      "metadata": {
        "colab": {
          "base_uri": "https://localhost:8080/"
        },
        "id": "1bZdRpRXQU3A",
        "outputId": "1bc76fda-f595-4c43-c23e-c0b81f820443"
      },
      "execution_count": null,
      "outputs": [
        {
          "output_type": "execute_result",
          "data": {
            "text/plain": [
              "array(['Henry Shaw', 'Robert Shaw', 'Robert Shaw Bond', ...,\n",
              "       'C. E. Coward', 'T. W. Rowbottom', 'Wm. McDougall'], dtype=object)"
            ]
          },
          "metadata": {},
          "execution_count": 38
        }
      ]
    },
    {
      "cell_type": "code",
      "source": [
        "[p for p in df['PERSONS'].unique() if p.lower().startswith('miss')]"
      ],
      "metadata": {
        "colab": {
          "base_uri": "https://localhost:8080/"
        },
        "id": "f1EUD6A1ROaB",
        "outputId": "f3b50ad3-94ce-41e6-b6cf-d20a67773308"
      },
      "execution_count": null,
      "outputs": [
        {
          "output_type": "execute_result",
          "data": {
            "text/plain": [
              "['Miss Gore Kelly',\n",
              " 'Miss Braddon<SEP>George Sharman',\n",
              " 'Miss Dora Russell<SEP>George Sharman',\n",
              " 'Miss Braddon<SEP>Walter Besant<SEP>H.',\n",
              " 'Miss Batchellor',\n",
              " 'Miss  Braddon',\n",
              " 'Miss Braddon , Adeline Sergeant , W . Clark Russell , William Westalll<SEP>Mary Tillotson<SEP>William Brimelow',\n",
              " 'Miss Braddon<SEP>Wilkie Collins<SEP>F. W. Robinson',\n",
              " 'Miss Braddon , F . W . Robinson , J . utton',\n",
              " 'Miss Braddon',\n",
              " 'Miss Marryat',\n",
              " 'Miss Dora Russell<SEP>G. Sharman']"
            ]
          },
          "metadata": {},
          "execution_count": 39
        }
      ]
    },
    {
      "cell_type": "code",
      "source": [
        "# split the entry by <SEP> and then by white space\n",
        "persons = [i.split() for p in df['PERSONS'].unique() for i in p.split('<SEP>')]"
      ],
      "metadata": {
        "id": "Syk7y1oeRjrQ"
      },
      "execution_count": null,
      "outputs": []
    },
    {
      "cell_type": "code",
      "source": [
        "persons[:5]"
      ],
      "metadata": {
        "colab": {
          "base_uri": "https://localhost:8080/"
        },
        "id": "xEJk2_u-RlEA",
        "outputId": "269bd7a1-d51a-4e56-8cc0-8d3f80a348d3"
      },
      "execution_count": null,
      "outputs": [
        {
          "output_type": "execute_result",
          "data": {
            "text/plain": [
              "[['Henry', 'Shaw'],\n",
              " ['Robert', 'Shaw'],\n",
              " ['Robert', 'Shaw', 'Bond'],\n",
              " ['Richard', 'Shaw', 'Bond'],\n",
              " ['R.', 'S.', 'Bond']]"
            ]
          },
          "metadata": {},
          "execution_count": 53
        }
      ]
    },
    {
      "cell_type": "code",
      "source": [
        "first_names_unique = set([p[0].lower().strip() for p in persons if p])\n",
        "len(first_names_unique)"
      ],
      "metadata": {
        "colab": {
          "base_uri": "https://localhost:8080/"
        },
        "id": "k9HKXigDSAc1",
        "outputId": "6da1d43d-1d7d-490d-d488-520b721c3810"
      },
      "execution_count": null,
      "outputs": [
        {
          "output_type": "execute_result",
          "data": {
            "text/plain": [
              "922"
            ]
          },
          "metadata": {},
          "execution_count": 58
        }
      ]
    },
    {
      "cell_type": "code",
      "source": [
        "#first_names_unique"
      ],
      "metadata": {
        "id": "hvF9UlYCSJg4"
      },
      "execution_count": null,
      "outputs": []
    },
    {
      "cell_type": "code",
      "source": [],
      "metadata": {
        "id": "uaB2ExUIYoYe"
      },
      "execution_count": null,
      "outputs": []
    },
    {
      "cell_type": "code",
      "source": [],
      "metadata": {
        "id": "dro-fUKBYop4"
      },
      "execution_count": null,
      "outputs": []
    },
    {
      "cell_type": "code",
      "source": [
        "female_first_name = ['sarah', 'mary', 'rebecca', 'mrs',  'miss', 'mary', 'maryanne', 'margaret',  'marie', 'louisa', 'honoria',\n",
        "'helen', 'hannah', 'florence', 'evelyn', 'esther', 'ellizabeth', 'elizabeth', 'eliza', 'dora', 'catherine',\n",
        "'annie', 'anne', 'anna', 'ann', 'alice', 'alicia']\n",
        "regex_pattern = '|'.join([fr\"\\b{n}\\b\" for n in female_first_name])\n",
        "regex_pattern"
      ],
      "metadata": {
        "colab": {
          "base_uri": "https://localhost:8080/",
          "height": 71
        },
        "id": "oVL-qTm9XYJ_",
        "outputId": "5bb040f7-a130-4c12-b1a4-43c962ee8a1e"
      },
      "execution_count": null,
      "outputs": [
        {
          "output_type": "execute_result",
          "data": {
            "text/plain": [
              "'\\\\bsarah\\\\b|\\\\bmary\\\\b|\\\\brebecca\\\\b|\\\\bmrs\\\\b|\\\\bmiss\\\\b|\\\\bmary\\\\b|\\\\bmaryanne\\\\b|\\\\bmargaret\\\\b|\\\\bmarie\\\\b|\\\\blouisa\\\\b|\\\\bhonoria\\\\b|\\\\bhelen\\\\b|\\\\bhannah\\\\b|\\\\bflorence\\\\b|\\\\bevelyn\\\\b|\\\\besther\\\\b|\\\\bellizabeth\\\\b|\\\\belizabeth\\\\b|\\\\beliza\\\\b|\\\\bdora\\\\b|\\\\bcatherine\\\\b|\\\\bannie\\\\b|\\\\banne\\\\b|\\\\banna\\\\b|\\\\bann\\\\b|\\\\balice\\\\b|\\\\balicia\\\\b'"
            ],
            "application/vnd.google.colaboratory.intrinsic+json": {
              "type": "string"
            }
          },
          "metadata": {},
          "execution_count": 61
        }
      ]
    },
    {
      "cell_type": "code",
      "source": [
        "from tqdm import tqdm\n",
        "tqdm.pandas()\n",
        "pattern = re.compile(regex_pattern)\n",
        "df['female_person'] = df['PERSONS'].progress_apply(lambda x: bool(pattern.search(x.lower())))"
      ],
      "metadata": {
        "colab": {
          "base_uri": "https://localhost:8080/"
        },
        "id": "KvPhHltsaJaT",
        "outputId": "55a6529b-3858-496a-c7ca-64d9cd07f65f"
      },
      "execution_count": null,
      "outputs": [
        {
          "output_type": "stream",
          "name": "stderr",
          "text": [
            "100%|██████████| 92266/92266 [00:00<00:00, 538668.99it/s]\n"
          ]
        }
      ]
    },
    {
      "cell_type": "code",
      "source": [
        "df['female_person'].sum()"
      ],
      "metadata": {
        "colab": {
          "base_uri": "https://localhost:8080/"
        },
        "id": "lHtEWLmraqN4",
        "outputId": "14cfba56-795d-49a9-b782-622fc7752c72"
      },
      "execution_count": null,
      "outputs": [
        {
          "output_type": "execute_result",
          "data": {
            "text/plain": [
              "779"
            ]
          },
          "metadata": {},
          "execution_count": 64
        }
      ]
    },
    {
      "cell_type": "code",
      "source": [
        "df[df['female_person'] == True]"
      ],
      "metadata": {
        "colab": {
          "base_uri": "https://localhost:8080/",
          "height": 1000
        },
        "id": "-3STC2v_agpr",
        "outputId": "36f4d3ed-95bf-4dd1-f1b2-aae9e452836b"
      },
      "execution_count": null,
      "outputs": [
        {
          "output_type": "execute_result",
          "data": {
            "text/plain": [
              "                  ID    CHAIN_ID  YEAR  \\\n",
              "287     MPD_1878_500  CID_000006  1878   \n",
              "288     MPD_1879_479  CID_000006  1879   \n",
              "289     MPD_1880_548  CID_000006  1880   \n",
              "290     MPD_1881_574  CID_000006  1881   \n",
              "291     MPD_1882_583  CID_000006  1882   \n",
              "...              ...         ...   ...   \n",
              "89895  MPD_1914_1738  CID_900701  1914   \n",
              "89896  MPD_1915_1758  CID_900701  1915   \n",
              "90999   MPD_1875_776              1875   \n",
              "91241  MPD_1883_1809              1883   \n",
              "91797     MPD_1905_2              1905   \n",
              "\n",
              "                                            TITLE PRICE      POLITICS  \\\n",
              "287                             KENTISH GAZETTE .    3d  conservative   \n",
              "288                             KENTISH GAZETTE .    3d  conservative   \n",
              "289                             KENTISH GAZETTE .    2d  conservative   \n",
              "290                             KENTISH GAZETTE .    2d  conservative   \n",
              "291                             KENTISH GAZETTE .    2d  conservative   \n",
              "...                                           ...   ...           ...   \n",
              "89895                EVENING NORTH WILTS HERALD .   ½ d   independent   \n",
              "89896                EVENING NORTH WILTS HERALD .   ½ d   independent   \n",
              "90999                      LEIGH WEEKLY JOURNAL .    1d                 \n",
              "91241                          ROSCOMMON HERALD ,    4d       liberal   \n",
              "91797  TILLOTSONS ' NEWSPAPER LITERATURE BUREAU .                       \n",
              "\n",
              "      ESTABLISHED_DATE PUBLISED_DATE  \\\n",
              "287               1717       Tuesday   \n",
              "288               1717       Tuesday   \n",
              "289               1717       Tuesday   \n",
              "290               1717       Tuesday   \n",
              "291               1717       Tuesday   \n",
              "...                ...           ...   \n",
              "89895             1861        Diaily   \n",
              "89896             1861         Daily   \n",
              "90999                     ISSaturday   \n",
              "91241            18393      Saturday   \n",
              "91797                                  \n",
              "\n",
              "                                                 PERSONS  \\\n",
              "287                                            Mary Ward   \n",
              "288                                            Mary Ward   \n",
              "289                                            Mary Ward   \n",
              "290                                            Mary Ward   \n",
              "291                                            Mary Ward   \n",
              "...                                                  ...   \n",
              "89895                                   MrS. Annie Piper   \n",
              "89896                                   MrS. Annie Piper   \n",
              "90999                                   Florence Marryat   \n",
              "91241                                   Honoria J. Tully   \n",
              "91797  Thomas Hardy<SEP>Hall Caine<SEP>Marie Corelli<...   \n",
              "\n",
              "                   ORGANIZATIONS   PLACE_PUB PLACE_PUB_WIKI  \\\n",
              "287                               canterbury         Q29303   \n",
              "288                               canterbury         Q29303   \n",
              "289                               canterbury         Q29303   \n",
              "290                               canterbury         Q29303   \n",
              "291                               canterbury         Q29303   \n",
              "...                          ...         ...            ...   \n",
              "89895                                swindon        Q200942   \n",
              "89896                                swindon        Q200942   \n",
              "90999            Tillotson & Son       leigh       Q2588021   \n",
              "91241                                belfast         Q10686   \n",
              "91797  Tillotson & Son ( Lim . )      london            Q84   \n",
              "\n",
              "              PLACE_PUB_COORD  \\\n",
              "287       (51.278333, 1.0775)   \n",
              "288       (51.278333, 1.0775)   \n",
              "289       (51.278333, 1.0775)   \n",
              "290       (51.278333, 1.0775)   \n",
              "291       (51.278333, 1.0775)   \n",
              "...                       ...   \n",
              "89895  (51.558333, -1.781111)   \n",
              "89896  (51.558333, -1.781111)   \n",
              "90999       (53.4975, -2.515)   \n",
              "91241      (54.596389, -5.93)   \n",
              "91797    (51.507222, -0.1275)   \n",
              "\n",
              "                                                  PLACES  \\\n",
              "287    East Kent<SEP>West Kent<SEP>Surrey<SEP>Sussex<...   \n",
              "288    East Kent<SEP>West Kent<SEP>Surrey<SEP>Sussex<...   \n",
              "289    East Kent<SEP>West Kent<SEP>Surrey<SEP>Sussex<...   \n",
              "290    East Kent<SEP>West Kent<SEP>urrey<SEP>Sussex<S...   \n",
              "291    East Kent<SEP>West Kent<SEP>Surrey<SEP>Sussex<...   \n",
              "...                                                  ...   \n",
              "89895  North Wilts<SEP>East Gloucestershire<SEP>West ...   \n",
              "89896  North Wilts<SEP>East Gloucestershire<SEP>West ...   \n",
              "90999                              South West Lancashire   \n",
              "91241           Roscommon<SEP>Leitrim<SEP>Sligo<SEP>Mayo   \n",
              "91797   .<SEP>Le Queux<SEP>Ouida<SEP>Eden Philpotts<S...   \n",
              "\n",
              "                                             PLACES_TRES  \\\n",
              "287    [{'mention': 'East Kent', 'pos': 29, 'sent_idx...   \n",
              "288    [{'mention': 'East Kent', 'pos': 29, 'sent_idx...   \n",
              "289    [{'mention': 'East Kent', 'pos': 29, 'sent_idx...   \n",
              "290    [{'mention': 'East Kent', 'pos': 29, 'sent_idx...   \n",
              "291    [{'mention': 'East Kent', 'pos': 29, 'sent_idx...   \n",
              "...                                                  ...   \n",
              "89895  [{'mention': 'North Wilts', 'pos': 29, 'sent_i...   \n",
              "89896  [{'mention': 'North Wilts', 'pos': 29, 'sent_i...   \n",
              "90999  [{'mention': 'South West Lancashire', 'pos': 2...   \n",
              "91241  [{'mention': 'Roscommon', 'pos': 29, 'sent_idx...   \n",
              "91797  [{'mention': 'Eden Philpotts', 'pos': 49, 'sen...   \n",
              "\n",
              "                                                    TEXT  female_person  \n",
              "287    KENTISH GAZETTE . Tuesday , 3d . Conservative ...           True  \n",
              "288    KENTISH GAZETTE . Tuesday , 3d . Conservative ...           True  \n",
              "289    KENTISH GAZETTE . Tuesday , 2d . Conservatiyve...           True  \n",
              "290    KENTISH GAZETTE . Tuesday , 2d . — Conservativ...           True  \n",
              "291    KENTISH GAZETTE . Tuesday , 2d . Conservative ...           True  \n",
              "...                                                  ...            ...  \n",
              "89895  HEVENING NORTH WILTS HERALD . Diaily , ½ d . I...           True  \n",
              "89896  EVENING NORTH WILTS HERALD . Daily , ½ d . Ind...           True  \n",
              "90999  LEIGH WEEKLY JOURNAL . ( Also published ISSatu...           True  \n",
              "91241  ROSCOMMON HERALD , Saturday , 4d . Liberal . —...           True  \n",
              "91797  TILLOTSONS ' NEWSPAPER LITERATURE BUREAU . Est...           True  \n",
              "\n",
              "[779 rows x 17 columns]"
            ],
            "text/html": [
              "\n",
              "  <div id=\"df-1c7d87c6-8e96-4a93-930a-d898fa50ada0\" class=\"colab-df-container\">\n",
              "    <div>\n",
              "<style scoped>\n",
              "    .dataframe tbody tr th:only-of-type {\n",
              "        vertical-align: middle;\n",
              "    }\n",
              "\n",
              "    .dataframe tbody tr th {\n",
              "        vertical-align: top;\n",
              "    }\n",
              "\n",
              "    .dataframe thead th {\n",
              "        text-align: right;\n",
              "    }\n",
              "</style>\n",
              "<table border=\"1\" class=\"dataframe\">\n",
              "  <thead>\n",
              "    <tr style=\"text-align: right;\">\n",
              "      <th></th>\n",
              "      <th>ID</th>\n",
              "      <th>CHAIN_ID</th>\n",
              "      <th>YEAR</th>\n",
              "      <th>TITLE</th>\n",
              "      <th>PRICE</th>\n",
              "      <th>POLITICS</th>\n",
              "      <th>ESTABLISHED_DATE</th>\n",
              "      <th>PUBLISED_DATE</th>\n",
              "      <th>PERSONS</th>\n",
              "      <th>ORGANIZATIONS</th>\n",
              "      <th>PLACE_PUB</th>\n",
              "      <th>PLACE_PUB_WIKI</th>\n",
              "      <th>PLACE_PUB_COORD</th>\n",
              "      <th>PLACES</th>\n",
              "      <th>PLACES_TRES</th>\n",
              "      <th>TEXT</th>\n",
              "      <th>female_person</th>\n",
              "    </tr>\n",
              "  </thead>\n",
              "  <tbody>\n",
              "    <tr>\n",
              "      <th>287</th>\n",
              "      <td>MPD_1878_500</td>\n",
              "      <td>CID_000006</td>\n",
              "      <td>1878</td>\n",
              "      <td>KENTISH GAZETTE .</td>\n",
              "      <td>3d</td>\n",
              "      <td>conservative</td>\n",
              "      <td>1717</td>\n",
              "      <td>Tuesday</td>\n",
              "      <td>Mary Ward</td>\n",
              "      <td></td>\n",
              "      <td>canterbury</td>\n",
              "      <td>Q29303</td>\n",
              "      <td>(51.278333, 1.0775)</td>\n",
              "      <td>East Kent&lt;SEP&gt;West Kent&lt;SEP&gt;Surrey&lt;SEP&gt;Sussex&lt;...</td>\n",
              "      <td>[{'mention': 'East Kent', 'pos': 29, 'sent_idx...</td>\n",
              "      <td>KENTISH GAZETTE . Tuesday , 3d . Conservative ...</td>\n",
              "      <td>True</td>\n",
              "    </tr>\n",
              "    <tr>\n",
              "      <th>288</th>\n",
              "      <td>MPD_1879_479</td>\n",
              "      <td>CID_000006</td>\n",
              "      <td>1879</td>\n",
              "      <td>KENTISH GAZETTE .</td>\n",
              "      <td>3d</td>\n",
              "      <td>conservative</td>\n",
              "      <td>1717</td>\n",
              "      <td>Tuesday</td>\n",
              "      <td>Mary Ward</td>\n",
              "      <td></td>\n",
              "      <td>canterbury</td>\n",
              "      <td>Q29303</td>\n",
              "      <td>(51.278333, 1.0775)</td>\n",
              "      <td>East Kent&lt;SEP&gt;West Kent&lt;SEP&gt;Surrey&lt;SEP&gt;Sussex&lt;...</td>\n",
              "      <td>[{'mention': 'East Kent', 'pos': 29, 'sent_idx...</td>\n",
              "      <td>KENTISH GAZETTE . Tuesday , 3d . Conservative ...</td>\n",
              "      <td>True</td>\n",
              "    </tr>\n",
              "    <tr>\n",
              "      <th>289</th>\n",
              "      <td>MPD_1880_548</td>\n",
              "      <td>CID_000006</td>\n",
              "      <td>1880</td>\n",
              "      <td>KENTISH GAZETTE .</td>\n",
              "      <td>2d</td>\n",
              "      <td>conservative</td>\n",
              "      <td>1717</td>\n",
              "      <td>Tuesday</td>\n",
              "      <td>Mary Ward</td>\n",
              "      <td></td>\n",
              "      <td>canterbury</td>\n",
              "      <td>Q29303</td>\n",
              "      <td>(51.278333, 1.0775)</td>\n",
              "      <td>East Kent&lt;SEP&gt;West Kent&lt;SEP&gt;Surrey&lt;SEP&gt;Sussex&lt;...</td>\n",
              "      <td>[{'mention': 'East Kent', 'pos': 29, 'sent_idx...</td>\n",
              "      <td>KENTISH GAZETTE . Tuesday , 2d . Conservatiyve...</td>\n",
              "      <td>True</td>\n",
              "    </tr>\n",
              "    <tr>\n",
              "      <th>290</th>\n",
              "      <td>MPD_1881_574</td>\n",
              "      <td>CID_000006</td>\n",
              "      <td>1881</td>\n",
              "      <td>KENTISH GAZETTE .</td>\n",
              "      <td>2d</td>\n",
              "      <td>conservative</td>\n",
              "      <td>1717</td>\n",
              "      <td>Tuesday</td>\n",
              "      <td>Mary Ward</td>\n",
              "      <td></td>\n",
              "      <td>canterbury</td>\n",
              "      <td>Q29303</td>\n",
              "      <td>(51.278333, 1.0775)</td>\n",
              "      <td>East Kent&lt;SEP&gt;West Kent&lt;SEP&gt;urrey&lt;SEP&gt;Sussex&lt;S...</td>\n",
              "      <td>[{'mention': 'East Kent', 'pos': 29, 'sent_idx...</td>\n",
              "      <td>KENTISH GAZETTE . Tuesday , 2d . — Conservativ...</td>\n",
              "      <td>True</td>\n",
              "    </tr>\n",
              "    <tr>\n",
              "      <th>291</th>\n",
              "      <td>MPD_1882_583</td>\n",
              "      <td>CID_000006</td>\n",
              "      <td>1882</td>\n",
              "      <td>KENTISH GAZETTE .</td>\n",
              "      <td>2d</td>\n",
              "      <td>conservative</td>\n",
              "      <td>1717</td>\n",
              "      <td>Tuesday</td>\n",
              "      <td>Mary Ward</td>\n",
              "      <td></td>\n",
              "      <td>canterbury</td>\n",
              "      <td>Q29303</td>\n",
              "      <td>(51.278333, 1.0775)</td>\n",
              "      <td>East Kent&lt;SEP&gt;West Kent&lt;SEP&gt;Surrey&lt;SEP&gt;Sussex&lt;...</td>\n",
              "      <td>[{'mention': 'East Kent', 'pos': 29, 'sent_idx...</td>\n",
              "      <td>KENTISH GAZETTE . Tuesday , 2d . Conservative ...</td>\n",
              "      <td>True</td>\n",
              "    </tr>\n",
              "    <tr>\n",
              "      <th>...</th>\n",
              "      <td>...</td>\n",
              "      <td>...</td>\n",
              "      <td>...</td>\n",
              "      <td>...</td>\n",
              "      <td>...</td>\n",
              "      <td>...</td>\n",
              "      <td>...</td>\n",
              "      <td>...</td>\n",
              "      <td>...</td>\n",
              "      <td>...</td>\n",
              "      <td>...</td>\n",
              "      <td>...</td>\n",
              "      <td>...</td>\n",
              "      <td>...</td>\n",
              "      <td>...</td>\n",
              "      <td>...</td>\n",
              "      <td>...</td>\n",
              "    </tr>\n",
              "    <tr>\n",
              "      <th>89895</th>\n",
              "      <td>MPD_1914_1738</td>\n",
              "      <td>CID_900701</td>\n",
              "      <td>1914</td>\n",
              "      <td>EVENING NORTH WILTS HERALD .</td>\n",
              "      <td>½ d</td>\n",
              "      <td>independent</td>\n",
              "      <td>1861</td>\n",
              "      <td>Diaily</td>\n",
              "      <td>MrS. Annie Piper</td>\n",
              "      <td></td>\n",
              "      <td>swindon</td>\n",
              "      <td>Q200942</td>\n",
              "      <td>(51.558333, -1.781111)</td>\n",
              "      <td>North Wilts&lt;SEP&gt;East Gloucestershire&lt;SEP&gt;West ...</td>\n",
              "      <td>[{'mention': 'North Wilts', 'pos': 29, 'sent_i...</td>\n",
              "      <td>HEVENING NORTH WILTS HERALD . Diaily , ½ d . I...</td>\n",
              "      <td>True</td>\n",
              "    </tr>\n",
              "    <tr>\n",
              "      <th>89896</th>\n",
              "      <td>MPD_1915_1758</td>\n",
              "      <td>CID_900701</td>\n",
              "      <td>1915</td>\n",
              "      <td>EVENING NORTH WILTS HERALD .</td>\n",
              "      <td>½ d</td>\n",
              "      <td>independent</td>\n",
              "      <td>1861</td>\n",
              "      <td>Daily</td>\n",
              "      <td>MrS. Annie Piper</td>\n",
              "      <td></td>\n",
              "      <td>swindon</td>\n",
              "      <td>Q200942</td>\n",
              "      <td>(51.558333, -1.781111)</td>\n",
              "      <td>North Wilts&lt;SEP&gt;East Gloucestershire&lt;SEP&gt;West ...</td>\n",
              "      <td>[{'mention': 'North Wilts', 'pos': 29, 'sent_i...</td>\n",
              "      <td>EVENING NORTH WILTS HERALD . Daily , ½ d . Ind...</td>\n",
              "      <td>True</td>\n",
              "    </tr>\n",
              "    <tr>\n",
              "      <th>90999</th>\n",
              "      <td>MPD_1875_776</td>\n",
              "      <td></td>\n",
              "      <td>1875</td>\n",
              "      <td>LEIGH WEEKLY JOURNAL .</td>\n",
              "      <td>1d</td>\n",
              "      <td></td>\n",
              "      <td></td>\n",
              "      <td>ISSaturday</td>\n",
              "      <td>Florence Marryat</td>\n",
              "      <td>Tillotson &amp; Son</td>\n",
              "      <td>leigh</td>\n",
              "      <td>Q2588021</td>\n",
              "      <td>(53.4975, -2.515)</td>\n",
              "      <td>South West Lancashire</td>\n",
              "      <td>[{'mention': 'South West Lancashire', 'pos': 2...</td>\n",
              "      <td>LEIGH WEEKLY JOURNAL . ( Also published ISSatu...</td>\n",
              "      <td>True</td>\n",
              "    </tr>\n",
              "    <tr>\n",
              "      <th>91241</th>\n",
              "      <td>MPD_1883_1809</td>\n",
              "      <td></td>\n",
              "      <td>1883</td>\n",
              "      <td>ROSCOMMON HERALD ,</td>\n",
              "      <td>4d</td>\n",
              "      <td>liberal</td>\n",
              "      <td>18393</td>\n",
              "      <td>Saturday</td>\n",
              "      <td>Honoria J. Tully</td>\n",
              "      <td></td>\n",
              "      <td>belfast</td>\n",
              "      <td>Q10686</td>\n",
              "      <td>(54.596389, -5.93)</td>\n",
              "      <td>Roscommon&lt;SEP&gt;Leitrim&lt;SEP&gt;Sligo&lt;SEP&gt;Mayo</td>\n",
              "      <td>[{'mention': 'Roscommon', 'pos': 29, 'sent_idx...</td>\n",
              "      <td>ROSCOMMON HERALD , Saturday , 4d . Liberal . —...</td>\n",
              "      <td>True</td>\n",
              "    </tr>\n",
              "    <tr>\n",
              "      <th>91797</th>\n",
              "      <td>MPD_1905_2</td>\n",
              "      <td></td>\n",
              "      <td>1905</td>\n",
              "      <td>TILLOTSONS ' NEWSPAPER LITERATURE BUREAU .</td>\n",
              "      <td></td>\n",
              "      <td></td>\n",
              "      <td></td>\n",
              "      <td></td>\n",
              "      <td>Thomas Hardy&lt;SEP&gt;Hall Caine&lt;SEP&gt;Marie Corelli&lt;...</td>\n",
              "      <td>Tillotson &amp; Son ( Lim . )</td>\n",
              "      <td>london</td>\n",
              "      <td>Q84</td>\n",
              "      <td>(51.507222, -0.1275)</td>\n",
              "      <td>.&lt;SEP&gt;Le Queux&lt;SEP&gt;Ouida&lt;SEP&gt;Eden Philpotts&lt;S...</td>\n",
              "      <td>[{'mention': 'Eden Philpotts', 'pos': 49, 'sen...</td>\n",
              "      <td>TILLOTSONS ' NEWSPAPER LITERATURE BUREAU . Est...</td>\n",
              "      <td>True</td>\n",
              "    </tr>\n",
              "  </tbody>\n",
              "</table>\n",
              "<p>779 rows × 17 columns</p>\n",
              "</div>\n",
              "    <div class=\"colab-df-buttons\">\n",
              "\n",
              "  <div class=\"colab-df-container\">\n",
              "    <button class=\"colab-df-convert\" onclick=\"convertToInteractive('df-1c7d87c6-8e96-4a93-930a-d898fa50ada0')\"\n",
              "            title=\"Convert this dataframe to an interactive table.\"\n",
              "            style=\"display:none;\">\n",
              "\n",
              "  <svg xmlns=\"http://www.w3.org/2000/svg\" height=\"24px\" viewBox=\"0 -960 960 960\">\n",
              "    <path d=\"M120-120v-720h720v720H120Zm60-500h600v-160H180v160Zm220 220h160v-160H400v160Zm0 220h160v-160H400v160ZM180-400h160v-160H180v160Zm440 0h160v-160H620v160ZM180-180h160v-160H180v160Zm440 0h160v-160H620v160Z\"/>\n",
              "  </svg>\n",
              "    </button>\n",
              "\n",
              "  <style>\n",
              "    .colab-df-container {\n",
              "      display:flex;\n",
              "      gap: 12px;\n",
              "    }\n",
              "\n",
              "    .colab-df-convert {\n",
              "      background-color: #E8F0FE;\n",
              "      border: none;\n",
              "      border-radius: 50%;\n",
              "      cursor: pointer;\n",
              "      display: none;\n",
              "      fill: #1967D2;\n",
              "      height: 32px;\n",
              "      padding: 0 0 0 0;\n",
              "      width: 32px;\n",
              "    }\n",
              "\n",
              "    .colab-df-convert:hover {\n",
              "      background-color: #E2EBFA;\n",
              "      box-shadow: 0px 1px 2px rgba(60, 64, 67, 0.3), 0px 1px 3px 1px rgba(60, 64, 67, 0.15);\n",
              "      fill: #174EA6;\n",
              "    }\n",
              "\n",
              "    .colab-df-buttons div {\n",
              "      margin-bottom: 4px;\n",
              "    }\n",
              "\n",
              "    [theme=dark] .colab-df-convert {\n",
              "      background-color: #3B4455;\n",
              "      fill: #D2E3FC;\n",
              "    }\n",
              "\n",
              "    [theme=dark] .colab-df-convert:hover {\n",
              "      background-color: #434B5C;\n",
              "      box-shadow: 0px 1px 3px 1px rgba(0, 0, 0, 0.15);\n",
              "      filter: drop-shadow(0px 1px 2px rgba(0, 0, 0, 0.3));\n",
              "      fill: #FFFFFF;\n",
              "    }\n",
              "  </style>\n",
              "\n",
              "    <script>\n",
              "      const buttonEl =\n",
              "        document.querySelector('#df-1c7d87c6-8e96-4a93-930a-d898fa50ada0 button.colab-df-convert');\n",
              "      buttonEl.style.display =\n",
              "        google.colab.kernel.accessAllowed ? 'block' : 'none';\n",
              "\n",
              "      async function convertToInteractive(key) {\n",
              "        const element = document.querySelector('#df-1c7d87c6-8e96-4a93-930a-d898fa50ada0');\n",
              "        const dataTable =\n",
              "          await google.colab.kernel.invokeFunction('convertToInteractive',\n",
              "                                                    [key], {});\n",
              "        if (!dataTable) return;\n",
              "\n",
              "        const docLinkHtml = 'Like what you see? Visit the ' +\n",
              "          '<a target=\"_blank\" href=https://colab.research.google.com/notebooks/data_table.ipynb>data table notebook</a>'\n",
              "          + ' to learn more about interactive tables.';\n",
              "        element.innerHTML = '';\n",
              "        dataTable['output_type'] = 'display_data';\n",
              "        await google.colab.output.renderOutput(dataTable, element);\n",
              "        const docLink = document.createElement('div');\n",
              "        docLink.innerHTML = docLinkHtml;\n",
              "        element.appendChild(docLink);\n",
              "      }\n",
              "    </script>\n",
              "  </div>\n",
              "\n",
              "\n",
              "<div id=\"df-dec1c12f-e4f5-4eb4-9101-bd21fff4f738\">\n",
              "  <button class=\"colab-df-quickchart\" onclick=\"quickchart('df-dec1c12f-e4f5-4eb4-9101-bd21fff4f738')\"\n",
              "            title=\"Suggest charts\"\n",
              "            style=\"display:none;\">\n",
              "\n",
              "<svg xmlns=\"http://www.w3.org/2000/svg\" height=\"24px\"viewBox=\"0 0 24 24\"\n",
              "     width=\"24px\">\n",
              "    <g>\n",
              "        <path d=\"M19 3H5c-1.1 0-2 .9-2 2v14c0 1.1.9 2 2 2h14c1.1 0 2-.9 2-2V5c0-1.1-.9-2-2-2zM9 17H7v-7h2v7zm4 0h-2V7h2v10zm4 0h-2v-4h2v4z\"/>\n",
              "    </g>\n",
              "</svg>\n",
              "  </button>\n",
              "\n",
              "<style>\n",
              "  .colab-df-quickchart {\n",
              "      --bg-color: #E8F0FE;\n",
              "      --fill-color: #1967D2;\n",
              "      --hover-bg-color: #E2EBFA;\n",
              "      --hover-fill-color: #174EA6;\n",
              "      --disabled-fill-color: #AAA;\n",
              "      --disabled-bg-color: #DDD;\n",
              "  }\n",
              "\n",
              "  [theme=dark] .colab-df-quickchart {\n",
              "      --bg-color: #3B4455;\n",
              "      --fill-color: #D2E3FC;\n",
              "      --hover-bg-color: #434B5C;\n",
              "      --hover-fill-color: #FFFFFF;\n",
              "      --disabled-bg-color: #3B4455;\n",
              "      --disabled-fill-color: #666;\n",
              "  }\n",
              "\n",
              "  .colab-df-quickchart {\n",
              "    background-color: var(--bg-color);\n",
              "    border: none;\n",
              "    border-radius: 50%;\n",
              "    cursor: pointer;\n",
              "    display: none;\n",
              "    fill: var(--fill-color);\n",
              "    height: 32px;\n",
              "    padding: 0;\n",
              "    width: 32px;\n",
              "  }\n",
              "\n",
              "  .colab-df-quickchart:hover {\n",
              "    background-color: var(--hover-bg-color);\n",
              "    box-shadow: 0 1px 2px rgba(60, 64, 67, 0.3), 0 1px 3px 1px rgba(60, 64, 67, 0.15);\n",
              "    fill: var(--button-hover-fill-color);\n",
              "  }\n",
              "\n",
              "  .colab-df-quickchart-complete:disabled,\n",
              "  .colab-df-quickchart-complete:disabled:hover {\n",
              "    background-color: var(--disabled-bg-color);\n",
              "    fill: var(--disabled-fill-color);\n",
              "    box-shadow: none;\n",
              "  }\n",
              "\n",
              "  .colab-df-spinner {\n",
              "    border: 2px solid var(--fill-color);\n",
              "    border-color: transparent;\n",
              "    border-bottom-color: var(--fill-color);\n",
              "    animation:\n",
              "      spin 1s steps(1) infinite;\n",
              "  }\n",
              "\n",
              "  @keyframes spin {\n",
              "    0% {\n",
              "      border-color: transparent;\n",
              "      border-bottom-color: var(--fill-color);\n",
              "      border-left-color: var(--fill-color);\n",
              "    }\n",
              "    20% {\n",
              "      border-color: transparent;\n",
              "      border-left-color: var(--fill-color);\n",
              "      border-top-color: var(--fill-color);\n",
              "    }\n",
              "    30% {\n",
              "      border-color: transparent;\n",
              "      border-left-color: var(--fill-color);\n",
              "      border-top-color: var(--fill-color);\n",
              "      border-right-color: var(--fill-color);\n",
              "    }\n",
              "    40% {\n",
              "      border-color: transparent;\n",
              "      border-right-color: var(--fill-color);\n",
              "      border-top-color: var(--fill-color);\n",
              "    }\n",
              "    60% {\n",
              "      border-color: transparent;\n",
              "      border-right-color: var(--fill-color);\n",
              "    }\n",
              "    80% {\n",
              "      border-color: transparent;\n",
              "      border-right-color: var(--fill-color);\n",
              "      border-bottom-color: var(--fill-color);\n",
              "    }\n",
              "    90% {\n",
              "      border-color: transparent;\n",
              "      border-bottom-color: var(--fill-color);\n",
              "    }\n",
              "  }\n",
              "</style>\n",
              "\n",
              "  <script>\n",
              "    async function quickchart(key) {\n",
              "      const quickchartButtonEl =\n",
              "        document.querySelector('#' + key + ' button');\n",
              "      quickchartButtonEl.disabled = true;  // To prevent multiple clicks.\n",
              "      quickchartButtonEl.classList.add('colab-df-spinner');\n",
              "      try {\n",
              "        const charts = await google.colab.kernel.invokeFunction(\n",
              "            'suggestCharts', [key], {});\n",
              "      } catch (error) {\n",
              "        console.error('Error during call to suggestCharts:', error);\n",
              "      }\n",
              "      quickchartButtonEl.classList.remove('colab-df-spinner');\n",
              "      quickchartButtonEl.classList.add('colab-df-quickchart-complete');\n",
              "    }\n",
              "    (() => {\n",
              "      let quickchartButtonEl =\n",
              "        document.querySelector('#df-dec1c12f-e4f5-4eb4-9101-bd21fff4f738 button');\n",
              "      quickchartButtonEl.style.display =\n",
              "        google.colab.kernel.accessAllowed ? 'block' : 'none';\n",
              "    })();\n",
              "  </script>\n",
              "</div>\n",
              "\n",
              "    </div>\n",
              "  </div>\n"
            ],
            "application/vnd.google.colaboratory.intrinsic+json": {
              "type": "dataframe",
              "summary": "{\n  \"name\": \"df[df['female_person'] == True]\",\n  \"rows\": 779,\n  \"fields\": [\n    {\n      \"column\": \"ID\",\n      \"properties\": {\n        \"dtype\": \"string\",\n        \"num_unique_values\": 779,\n        \"samples\": [\n          \"MPD_1863_1155\",\n          \"MPD_1920_1110\",\n          \"MPD_1863_566\"\n        ],\n        \"semantic_type\": \"\",\n        \"description\": \"\"\n      }\n    },\n    {\n      \"column\": \"CHAIN_ID\",\n      \"properties\": {\n        \"dtype\": \"category\",\n        \"num_unique_values\": 114,\n        \"samples\": [\n          \"CID_002327\",\n          \"CID_000060\",\n          \"CID_000710\"\n        ],\n        \"semantic_type\": \"\",\n        \"description\": \"\"\n      }\n    },\n    {\n      \"column\": \"YEAR\",\n      \"properties\": {\n        \"dtype\": \"number\",\n        \"std\": 15,\n        \"min\": 1846,\n        \"max\": 1920,\n        \"num_unique_values\": 53,\n        \"samples\": [\n          1914,\n          1858,\n          1896\n        ],\n        \"semantic_type\": \"\",\n        \"description\": \"\"\n      }\n    },\n    {\n      \"column\": \"TITLE\",\n      \"properties\": {\n        \"dtype\": \"category\",\n        \"num_unique_values\": 129,\n        \"samples\": [\n          \"ROSCOMMON JOURNAL .\",\n          \"IPSWICH JOURNAL .\",\n          \"LIVERPOOL MERCURY .\"\n        ],\n        \"semantic_type\": \"\",\n        \"description\": \"\"\n      }\n    },\n    {\n      \"column\": \"PRICE\",\n      \"properties\": {\n        \"dtype\": \"category\",\n        \"num_unique_values\": 25,\n        \"samples\": [\n          \"2 \\u00bd d\",\n          \"5d<SEP>6d\",\n          \"3d\"\n        ],\n        \"semantic_type\": \"\",\n        \"description\": \"\"\n      }\n    },\n    {\n      \"column\": \"POLITICS\",\n      \"properties\": {\n        \"dtype\": \"category\",\n        \"num_unique_values\": 13,\n        \"samples\": [\n          \"constitutional\",\n          \"liberal<SEP>conservative\",\n          \"conservative\"\n        ],\n        \"semantic_type\": \"\",\n        \"description\": \"\"\n      }\n    },\n    {\n      \"column\": \"ESTABLISHED_DATE\",\n      \"properties\": {\n        \"dtype\": \"category\",\n        \"num_unique_values\": 98,\n        \"samples\": [\n          \"February 14 , 1846\",\n          \"1768\",\n          \"January , 1859\"\n        ],\n        \"semantic_type\": \"\",\n        \"description\": \"\"\n      }\n    },\n    {\n      \"column\": \"PUBLISED_DATE\",\n      \"properties\": {\n        \"dtype\": \"category\",\n        \"num_unique_values\": 66,\n        \"samples\": [\n          \"Ciiday\",\n          \"Gaazctte<SEP>Friday<SEP>evening\",\n          \"Tuesday\"\n        ],\n        \"semantic_type\": \"\",\n        \"description\": \"\"\n      }\n    },\n    {\n      \"column\": \"PERSONS\",\n      \"properties\": {\n        \"dtype\": \"category\",\n        \"num_unique_values\": 217,\n        \"samples\": [\n          \"Walter Besant , G. R . Sims , G. M. Fenn , Dora Russell<SEP>Mary Tillotson & William Brimelow\",\n          \"Miss Dora Russell<SEP>G. Sharman\",\n          \"Miss  Braddon\"\n        ],\n        \"semantic_type\": \"\",\n        \"description\": \"\"\n      }\n    },\n    {\n      \"column\": \"ORGANIZATIONS\",\n      \"properties\": {\n        \"dtype\": \"category\",\n        \"num_unique_values\": 58,\n        \"samples\": [\n          \"\",\n          \"Tillotson & Son\",\n          \"Tillotson & Son ( Ltd . )\"\n        ],\n        \"semantic_type\": \"\",\n        \"description\": \"\"\n      }\n    },\n    {\n      \"column\": \"PLACE_PUB\",\n      \"properties\": {\n        \"dtype\": \"category\",\n        \"num_unique_values\": 93,\n        \"samples\": [\n          \"chatteris\",\n          \"drogheda\",\n          \"bath\"\n        ],\n        \"semantic_type\": \"\",\n        \"description\": \"\"\n      }\n    },\n    {\n      \"column\": \"PLACE_PUB_WIKI\",\n      \"properties\": {\n        \"dtype\": \"category\",\n        \"num_unique_values\": 92,\n        \"samples\": [\n          \"Q2636013\",\n          \"Q207223\",\n          \"Q22889\"\n        ],\n        \"semantic_type\": \"\",\n        \"description\": \"\"\n      }\n    },\n    {\n      \"column\": \"PLACE_PUB_COORD\",\n      \"properties\": {\n        \"dtype\": \"category\",\n        \"num_unique_values\": 93,\n        \"samples\": [\n          \"(52.456, 0.055)\",\n          \"(53.713889, -6.350278)\",\n          \"(51.381389, -2.358611)\"\n        ],\n        \"semantic_type\": \"\",\n        \"description\": \"\"\n      }\n    },\n    {\n      \"column\": \"PLACES\",\n      \"properties\": {\n        \"dtype\": \"category\",\n        \"num_unique_values\": 370,\n        \"samples\": [\n          \"Farnworth<SEP>Kearsley<SEP>Little Lever<SEP>Outwood<SEP>Radeliffe<SEP>Little Hulton<SEP>Swinton<SEP>Pendlebury<SEP>Ringley<SEP>Walk - den<SEP>Sindsley<SEP>Bolton<SEP>Darcy Lever<SEP>Great Lever<SEP>Clifton<SEP>Worsley<SEP>Mrs .<SEP>Wilkie Collins\",\n          \"Derry<SEP>Donegal<SEP>Tyrone<SEP>Fermanagh\",\n          \"Carmarthen<SEP>Liandilo<SEP>Lilan - dovery<SEP>Llanelly<SEP>Haverfordwest<SEP>Pembroke<SEP>Tenby<SEP>Milford<SEP>Swansea<SEP>Cardigan<SEP>Aberystwith<SEP>South Wales\"\n        ],\n        \"semantic_type\": \"\",\n        \"description\": \"\"\n      }\n    },\n    {\n      \"column\": \"PLACES_TRES\",\n      \"properties\": {\n        \"dtype\": \"category\",\n        \"num_unique_values\": 363,\n        \"samples\": [\n          \"[{'mention': 'Carlow', 'pos': 29, 'sent_idx': 0, 'end_pos': 35, 'tag': 'LOC', 'prediction': 'Q211703', 'ed_score': 0.005, 'latlon': [52.8306, -6.9317], 'wkdt_class': 'Q3957'}, {'mention': 'Kildare', 'pos': 37, 'sent_idx': 0, 'end_pos': 44, 'tag': 'LOC', 'prediction': 'Q917865', 'ed_score': 0.005, 'latlon': [53.156859, -6.909027], 'wkdt_class': 'Q3957'}, {'mention': 'Wicklow', 'pos': 46, 'sent_idx': 0, 'end_pos': 53, 'tag': 'LOC', 'prediction': 'Q652101', 'ed_score': 0.005, 'latlon': [52.9779, -6.033], 'wkdt_class': 'Q486972'}, {'mention': \\\"Queen ' s County\\\", 'pos': 55, 'sent_idx': 0, 'end_pos': 70, 'tag': 'LOC', 'prediction': 'Q55299', 'ed_score': 0.006, 'latlon': [53.0, -7.4], 'wkdt_class': 'Q179872'}, {'mention': 'Kilkenny', 'pos': 72, 'sent_idx': 0, 'end_pos': 80, 'tag': 'LOC', 'prediction': 'Q109092', 'ed_score': 0.006, 'latlon': [52.6477, -7.2561], 'wkdt_class': 'Q3957'}]\",\n          \"[{'mention': 'Derry', 'pos': 29, 'sent_idx': 0, 'end_pos': 34, 'tag': 'LOC', 'prediction': 'Q163584', 'ed_score': 0.005, 'latlon': [54.991667, -7.341667], 'wkdt_class': 'Q515'}, {'mention': 'Donegal', 'pos': 36, 'sent_idx': 0, 'end_pos': 43, 'tag': 'LOC', 'prediction': 'Q179424', 'ed_score': 0.006, 'latlon': [54.917, -8.0], 'wkdt_class': 'Q179872'}, {'mention': 'Tyrone', 'pos': 45, 'sent_idx': 0, 'end_pos': 51, 'tag': 'LOC', 'prediction': 'Q192229', 'ed_score': 0.006, 'latlon': [54.61, -7.16], 'wkdt_class': 'Q67376938'}, {'mention': 'Fermanagh', 'pos': 53, 'sent_idx': 0, 'end_pos': 62, 'tag': 'LOC', 'prediction': 'Q190678', 'ed_score': 0.004, 'latlon': [54.35, -7.63], 'wkdt_class': 'Q67376938'}]\",\n          \"[{'mention': 'Carmarthen', 'pos': 29, 'sent_idx': 0, 'end_pos': 39, 'tag': 'LOC', 'prediction': 'Q835835', 'ed_score': 0.006, 'latlon': [51.856944, -4.316389], 'wkdt_class': 'Q2630741'}, {'mention': 'Liandilo', 'pos': 41, 'sent_idx': 0, 'end_pos': 49, 'tag': 'LOC', 'prediction': 'Q2204179', 'ed_score': 0.002, 'latlon': [51.8841, -3.99918], 'wkdt_class': 'Q3957'}, {'mention': 'Lilan - dovery', 'pos': 51, 'sent_idx': 0, 'end_pos': 65, 'tag': 'LOC', 'prediction': 'NIL', 'ed_score': 0.0, 'latlon': None, 'wkdt_class': None}, {'mention': 'Llanelly', 'pos': 67, 'sent_idx': 0, 'end_pos': 75, 'tag': 'LOC', 'prediction': 'Q6661307', 'ed_score': 0.005, 'latlon': [51.8265, -3.11579], 'wkdt_class': 'Q5084'}, {'mention': 'Haverfordwest', 'pos': 77, 'sent_idx': 0, 'end_pos': 90, 'tag': 'LOC', 'prediction': 'Q990103', 'ed_score': 0.006, 'latlon': [51.801111, -4.969444], 'wkdt_class': 'Q2630741'}, {'mention': 'Pembroke', 'pos': 92, 'sent_idx': 0, 'end_pos': 100, 'tag': 'LOC', 'prediction': 'Q1762242', 'ed_score': 0.003, 'latlon': [51.676039, -4.9158], 'wkdt_class': 'Q3957'}, {'mention': 'Tenby', 'pos': 102, 'sent_idx': 0, 'end_pos': 107, 'tag': 'LOC', 'prediction': 'Q558878', 'ed_score': 0.006, 'latlon': [51.671389, -4.699444], 'wkdt_class': 'Q3957'}, {'mention': 'Milford', 'pos': 109, 'sent_idx': 0, 'end_pos': 116, 'tag': 'LOC', 'prediction': 'Q755798', 'ed_score': 0.003, 'latlon': [41.224167, -73.059722], 'wkdt_class': 'Q1093829'}, {'mention': 'Swansea', 'pos': 118, 'sent_idx': 0, 'end_pos': 125, 'tag': 'LOC', 'prediction': 'Q23051', 'ed_score': 0.005, 'latlon': [51.616667, -3.95], 'wkdt_class': 'Q515'}, {'mention': 'Cardigan', 'pos': 127, 'sent_idx': 0, 'end_pos': 135, 'tag': 'LOC', 'prediction': 'Q779813', 'ed_score': 0.005, 'latlon': [52.084169, -4.657919], 'wkdt_class': 'Q3957'}, {'mention': 'Aberystwith', 'pos': 137, 'sent_idx': 0, 'end_pos': 148, 'tag': 'LOC', 'prediction': 'Q213154', 'ed_score': 0.007, 'latlon': [52.416667, -4.066667], 'wkdt_class': 'Q2630741'}, {'mention': 'South Wales', 'pos': 150, 'sent_idx': 0, 'end_pos': 161, 'tag': 'LOC', 'prediction': 'Q1286223', 'ed_score': 0.004, 'latlon': [51.6833, -3.38333], 'wkdt_class': 'Q82794'}]\"\n        ],\n        \"semantic_type\": \"\",\n        \"description\": \"\"\n      }\n    },\n    {\n      \"column\": \"TEXT\",\n      \"properties\": {\n        \"dtype\": \"string\",\n        \"num_unique_values\": 750,\n        \"samples\": [\n          \"MIDLAND TRIBUNE . Saturday , 1d . Nartional . \\u2014 Established 1881 . Circulates in King 's and Queen 's counties , and in counties Tipperary , Galway and Clare . Is thoroughly National in tone , and aims to be the reflex and exponent of popular feeling throughout a widespread district in the Midland counties of Ireland . Proprietress \\u2014 Mrs . Margaret Powell . ( Advt . , p . 556 .\",\n          \"NATIONALIST AND LEINSTER TIMES . Saturday , 2d . Nartional . \\u2014 Established September , 1883 . Circulates in the counties of Carlow , Kildare , Wicklow , Queen 's County , and Kilkenny . It contains full reports of all District and County Council meetings , Poor Law , Asylums and Infirmary Boards , political and social meetings , agricultural and general . Proprietor \\u2014 Mrus . A . F . Conlan . ( Inthe Province of Leinster and\",\n          \"HAMPSHIRE TELEGRAPH . Saturday , 5d . and 6d . Liberal . \\u2014 Established October 14 , 1799 . Circurates largely through Portsmouth , Portsea , and Gosport ; all the Isle of Wight , Southampton , Winches - ter , Lymington , Romsey , Guildford , Godalming , Pet - worth , Midhurst , Petersfield , Chichester , Arundel , Ems - worth , Havant , and all the circuit for 40 miles . Advocates the interests of agriculture , commerce , and naval matters ; ; is attached to the Church of England , but decidedly against Puseyism ; liberal towards dissenters , as well as towards the Papal Church , so far as Ireland is concerned . \\u2014 This journal has a high and well-established character for its shipping intelligence , which is always full and correct ; its general news is accuratley given . Proprietor ( acting ) \\u2014 Alicia Harrison . ( Ad . , p . 108 .\"\n        ],\n        \"semantic_type\": \"\",\n        \"description\": \"\"\n      }\n    },\n    {\n      \"column\": \"female_person\",\n      \"properties\": {\n        \"dtype\": \"boolean\",\n        \"num_unique_values\": 1,\n        \"samples\": [\n          true\n        ],\n        \"semantic_type\": \"\",\n        \"description\": \"\"\n      }\n    }\n  ]\n}"
            }
          },
          "metadata": {},
          "execution_count": 65
        }
      ]
    },
    {
      "cell_type": "code",
      "source": [
        "df[df['female_person'] == True]['TITLE'].unique()"
      ],
      "metadata": {
        "colab": {
          "base_uri": "https://localhost:8080/"
        },
        "id": "LjeyGW0BbEdI",
        "outputId": "d713b535-545a-4f77-bb69-8d80a2e2aa66"
      },
      "execution_count": null,
      "outputs": [
        {
          "output_type": "execute_result",
          "data": {
            "text/plain": [
              "array(['KENTISH GAZETTE .', 'ESSEX STANDARD . ', 'ESSEX STANDARD .',\n",
              "       'ESSEX STANDARD AND EASTERN COUNTIES ADVERTISER .',\n",
              "       'ESSEX STANDARD , WEST SUFFOLK GAZETTE , AND EASTERN COUNTIES ADVERTISER .',\n",
              "       'LINCOLN , RUTLAND , AND STAMFORD MERCURY .',\n",
              "       'CAERMARTHEN JOURNAL .', 'THE JOURNAL .', 'BELFAST NEWS LETTER .',\n",
              "       'LIMERICK CHRONICLE .', 'LONDONDERRY SENTINEL .',\n",
              "       'NENAGH GUARDIAN .', 'CARLOW SENTINEL .', 'KILKENNY JOURNAL .',\n",
              "       'SLIGO CHAMPION .', 'WELLS JOURNAL .', 'HAMPSHIRE TELEGRAPH .',\n",
              "       'HAMPSHIRE TELEGRAPH AND SUSSEX CHRONICLE .', 'WEST BRITON .',\n",
              "       'LIVERPOOL MERCURY .', 'EAST OF FIFE RECORD .', 'ANGLO-CELT .',\n",
              "       'KENT COAST TIMES .', 'COAST TIMES .', 'BERWICK ADVERTISER .',\n",
              "       'CHESTER CHRONICLE .', 'DERBYSHIRE COURIER .',\n",
              "       'STIRLING JOURNAL AND ADVERTISER .', 'DROGHEDA ARGUS .',\n",
              "       'BOLTON EVENING NEWS .',\n",
              "       '\" MAN OF ROSS , \" FOREST OF DEAN , AND WEST OF ENGLAND ADVERTISER .',\n",
              "       'ECCLES ADVERTISER .', 'MORPETH HERALD .',\n",
              "       'STAR OF GWENT AND SOUTH WALES TIMES .', 'DERBYSHIRE TIMES .',\n",
              "       'WEST SURREY TIMES .', 'ISLE OF WIGHT OBSERVER .',\n",
              "       'BIDEFORD WEEKLY GAZETTE .', 'FALMOUTH PACKET .',\n",
              "       'GATESHEAD OBSERVER .', 'IPSWICH JOURNAL .', 'LIVERPOOL ALBION .',\n",
              "       'NEWTOWNARDS CHRONICLE .', \"EXETER FLYING POST ( TREWMAN'S ) .\",\n",
              "       'NORTH WILTS HERALD .', 'KINGTON GAZETTE .',\n",
              "       'BALLINROBE CHRONICLE .', 'CHATTERIS ADVERTISER .',\n",
              "       'WHITTLESEA REPORTER .', 'KELSO CHRONICLE .',\n",
              "       'NOTTINGHAMSHIRE GUARDIAN .',\n",
              "       'HARWICH AND DOVERCOURT FREE PRESS .', 'SLEAFORD JOURNAL .',\n",
              "       'ROTHERHAM AND MASBOROUGH ADVERTISER .',\n",
              "       'ISLE OF WIGHT CHRONICLE .', 'ROSCOMMON JOURNAL .',\n",
              "       'WHITEHAVEN HERALD .', 'NATIONALIST AND LEINSTER TIMES .',\n",
              "       'HUNTINGDON ADVERTISER .', 'BRISTOL MIRROR .',\n",
              "       'TRALEE CHRONICLE .', 'ROSCOMMON HERALD .', 'REPORTER .',\n",
              "       'EVENING STAR OF GWENT AND SOUTH WALES TIMES .',\n",
              "       'CONSETT GUARDIAN .', 'CARLOW POST .', 'BATH HERALD .',\n",
              "       'BRIGHTON SOCIETY .', 'BRIGHTON GUARDIAN .',\n",
              "       'CARDIGAN ADVERTISER .', 'CARDIGAN AND TIVY SIDE ADVERTISER .',\n",
              "       'DOVER TELEGRAPH .', 'NEWCASTLE GUARDIAN .', 'SHEFFIELD TIMES .',\n",
              "       'PRESCOT REPORTER .',\n",
              "       \"PRESCOT REPORTER AND ST . HELEN'S GENERAL ADVERTISER .\",\n",
              "       'STRATFORD-UPON-AVON HERALD .', 'CLARE FREEMAN .',\n",
              "       'PORTADOWN AND LURGAN NEWS .',\n",
              "       'PORTADOWN AND LURGAN NEWS , AND COUNTY ARMAGH ADVERTISER .',\n",
              "       'NORTHAMPTON MERCURY .', 'MIDLAND SPORTING NEWS .',\n",
              "       'MIDLAND TRIBUNE .', 'NORWOOD REVIEWS CRYSTAL PALACE REPORTER .',\n",
              "       'CHELTENHAM JOURNAL .', 'CASTLEBAR TELEGRAPH .',\n",
              "       'SHEFFIELD DAILY TIMES .', 'LISKEARD GAZETTE .',\n",
              "       'WESTERN HERALD .', 'FORFAR HERALD .', 'FORFAR REVIEW .',\n",
              "       'STRABANE CHRONICLE , AND TYRONE AND DONEGAL ADVERTISER .',\n",
              "       'PENDLEBURY AND SWINTON JOURNAL .', 'LEDBURY REPORTER .',\n",
              "       'SLIGO JOURNAL .', 'ECCLES AND PATRICROFT JOURNAL .',\n",
              "       'LEIGH JOURNAL AND TIMES .', 'BOLTON WEEKLY JOURNAL .',\n",
              "       'BOLTON WEEKLY JOURNAL . ', 'BOLTON WEEKLY JOURNAL AND GUARDIAN .',\n",
              "       'NEWRY REPORTER . DOWN , ARMAGH , AND LOUTH TIMES .',\n",
              "       'BRIDGEWATER TIMES .', 'SURREY MAIL AND HORSHAM STAR .',\n",
              "       'CHERTSEY MAIL .', 'GRIMSBY FREE PRESS .', 'KELSO COURIER .',\n",
              "       'TEWKESBURY MAIL .', 'FARNWORTH JOURNAL AND OBSERVER .',\n",
              "       'BRIDPORT , BEAMINSTER , AND LYNN REGIS TELEGRAM .',\n",
              "       \"POTTER'S NEWSPAPER .\", 'GUERNSEY COMET .',\n",
              "       'TYLDESLEY WEEKLY JOURNAL , LEIGH AND ATHERTON NEWS .',\n",
              "       'TYLDESLEY WEEKLY JOURNAL , LEIGH AND NATHERTON NEWS .',\n",
              "       'TYLDESLEY WEEKLY JOURNAL LEIGH AND ATHERTON NEWS .',\n",
              "       'GALWAY FREE PRESS .', 'SUTTON COLDFIELD ERDINGTON MERCURY .',\n",
              "       'FARNWORTH WEEKLY JOURNAL .',\n",
              "       'FARNWORTH WEEKLY JOURNAL & OBERVER .', 'BROMYARD NEWS .',\n",
              "       'SUTTON COLDFIELD AND ERDINGTON MERCURY .',\n",
              "       'FREE PRESS OF MONMOUTHSHIRE .',\n",
              "       'CAMBRIDGESHIRE TIMES AND MARCH GAZETTE .',\n",
              "       'BRIDGE OF ALLAN REPORTER .', '', 'WORKSOP ADVERTISER .',\n",
              "       'EVENING NORTH WILTS HERALD .', 'LEIGH WEEKLY JOURNAL .',\n",
              "       'ROSCOMMON HERALD ,', \"TILLOTSONS ' NEWSPAPER LITERATURE BUREAU .\"],\n",
              "      dtype=object)"
            ]
          },
          "metadata": {},
          "execution_count": 69
        }
      ]
    },
    {
      "cell_type": "code",
      "source": [
        "df[df['female_person'] == True]['POLITICS'].value_counts(normalize=True)[:5]"
      ],
      "metadata": {
        "colab": {
          "base_uri": "https://localhost:8080/",
          "height": 272
        },
        "id": "jbmn8wZUavs7",
        "outputId": "ce5b44d9-d374-4190-cb98-569c0850e244"
      },
      "execution_count": null,
      "outputs": [
        {
          "output_type": "execute_result",
          "data": {
            "text/plain": [
              "POLITICS\n",
              "liberal         0.382542\n",
              "conservative    0.283697\n",
              "independent     0.115533\n",
              "neutral         0.105263\n",
              "national        0.035944\n",
              "Name: proportion, dtype: float64"
            ],
            "text/html": [
              "<div>\n",
              "<style scoped>\n",
              "    .dataframe tbody tr th:only-of-type {\n",
              "        vertical-align: middle;\n",
              "    }\n",
              "\n",
              "    .dataframe tbody tr th {\n",
              "        vertical-align: top;\n",
              "    }\n",
              "\n",
              "    .dataframe thead th {\n",
              "        text-align: right;\n",
              "    }\n",
              "</style>\n",
              "<table border=\"1\" class=\"dataframe\">\n",
              "  <thead>\n",
              "    <tr style=\"text-align: right;\">\n",
              "      <th></th>\n",
              "      <th>proportion</th>\n",
              "    </tr>\n",
              "    <tr>\n",
              "      <th>POLITICS</th>\n",
              "      <th></th>\n",
              "    </tr>\n",
              "  </thead>\n",
              "  <tbody>\n",
              "    <tr>\n",
              "      <th>liberal</th>\n",
              "      <td>0.382542</td>\n",
              "    </tr>\n",
              "    <tr>\n",
              "      <th>conservative</th>\n",
              "      <td>0.283697</td>\n",
              "    </tr>\n",
              "    <tr>\n",
              "      <th>independent</th>\n",
              "      <td>0.115533</td>\n",
              "    </tr>\n",
              "    <tr>\n",
              "      <th>neutral</th>\n",
              "      <td>0.105263</td>\n",
              "    </tr>\n",
              "    <tr>\n",
              "      <th>national</th>\n",
              "      <td>0.035944</td>\n",
              "    </tr>\n",
              "  </tbody>\n",
              "</table>\n",
              "</div><br><label><b>dtype:</b> float64</label>"
            ]
          },
          "metadata": {},
          "execution_count": 67
        }
      ]
    },
    {
      "cell_type": "code",
      "source": [
        "df['POLITICS'].value_counts(normalize=True)[:5]"
      ],
      "metadata": {
        "colab": {
          "base_uri": "https://localhost:8080/",
          "height": 272
        },
        "id": "mib3d6f1ajiB",
        "outputId": "a6722d7c-ff5d-4acb-ac6f-f52bf61626af"
      },
      "execution_count": null,
      "outputs": [
        {
          "output_type": "execute_result",
          "data": {
            "text/plain": [
              "POLITICS\n",
              "liberal         0.236750\n",
              "independent     0.189170\n",
              "neutral         0.186483\n",
              "conservative    0.149578\n",
              "                0.142382\n",
              "Name: proportion, dtype: float64"
            ],
            "text/html": [
              "<div>\n",
              "<style scoped>\n",
              "    .dataframe tbody tr th:only-of-type {\n",
              "        vertical-align: middle;\n",
              "    }\n",
              "\n",
              "    .dataframe tbody tr th {\n",
              "        vertical-align: top;\n",
              "    }\n",
              "\n",
              "    .dataframe thead th {\n",
              "        text-align: right;\n",
              "    }\n",
              "</style>\n",
              "<table border=\"1\" class=\"dataframe\">\n",
              "  <thead>\n",
              "    <tr style=\"text-align: right;\">\n",
              "      <th></th>\n",
              "      <th>proportion</th>\n",
              "    </tr>\n",
              "    <tr>\n",
              "      <th>POLITICS</th>\n",
              "      <th></th>\n",
              "    </tr>\n",
              "  </thead>\n",
              "  <tbody>\n",
              "    <tr>\n",
              "      <th>liberal</th>\n",
              "      <td>0.236750</td>\n",
              "    </tr>\n",
              "    <tr>\n",
              "      <th>independent</th>\n",
              "      <td>0.189170</td>\n",
              "    </tr>\n",
              "    <tr>\n",
              "      <th>neutral</th>\n",
              "      <td>0.186483</td>\n",
              "    </tr>\n",
              "    <tr>\n",
              "      <th>conservative</th>\n",
              "      <td>0.149578</td>\n",
              "    </tr>\n",
              "    <tr>\n",
              "      <th></th>\n",
              "      <td>0.142382</td>\n",
              "    </tr>\n",
              "  </tbody>\n",
              "</table>\n",
              "</div><br><label><b>dtype:</b> float64</label>"
            ]
          },
          "metadata": {},
          "execution_count": 74
        }
      ]
    },
    {
      "cell_type": "markdown",
      "source": [],
      "metadata": {
        "id": "sUCufHZ9bhBU"
      }
    },
    {
      "cell_type": "code",
      "source": [
        "df[df['female_person'] == True].groupby(['YEAR']).size().plot()"
      ],
      "metadata": {
        "colab": {
          "base_uri": "https://localhost:8080/",
          "height": 476
        },
        "id": "8oNwkiiwa5wM",
        "outputId": "4d55b33c-bc2d-4922-cc48-207347912714"
      },
      "execution_count": null,
      "outputs": [
        {
          "output_type": "execute_result",
          "data": {
            "text/plain": [
              "<Axes: xlabel='YEAR'>"
            ]
          },
          "metadata": {},
          "execution_count": 73
        },
        {
          "output_type": "display_data",
          "data": {
            "text/plain": [
              "<Figure size 640x480 with 1 Axes>"
            ],
            "image/png": "[encoded data removed]"
          },
          "metadata": {}
        }
      ]
    },
    {
      "cell_type": "code",
      "source": [
        "df.groupby(['YEAR'])['PERSONS'].nunique().plot()\n",
        "df.groupby(['YEAR'])['ORGANIZATIONS'].nunique().plot()"
      ],
      "metadata": {
        "colab": {
          "base_uri": "https://localhost:8080/",
          "height": 476
        },
        "id": "JGbCEmTdbeRa",
        "outputId": "c73638a1-d37c-4339-e7a6-0e1e425f38b8"
      },
      "execution_count": null,
      "outputs": [
        {
          "output_type": "execute_result",
          "data": {
            "text/plain": [
              "<Axes: xlabel='YEAR'>"
            ]
          },
          "metadata": {},
          "execution_count": 80
        },
        {
          "output_type": "display_data",
          "data": {
            "text/plain": [
              "<Figure size 640x480 with 1 Axes>"
            ],
            "image/png": "[encoded data removed]"
          },
          "metadata": {}
        }
      ]
    },
    {
      "cell_type": "markdown",
      "source": [
        "# Fin."
      ],
      "metadata": {
        "id": "-z_QjLW-cYwY"
      }
    }
  ]
}